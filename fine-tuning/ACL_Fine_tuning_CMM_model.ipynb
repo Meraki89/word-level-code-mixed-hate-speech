{
  "cells": [
    {
      "cell_type": "code",
      "execution_count": 424,
      "metadata": {
        "id": "gXn4t-oq5jlY"
      },
      "outputs": [],
      "source": [
        "import csv\n",
        "import torch\n",
        "import pandas as pd\n",
        "import numpy as np\n",
        "from transformers import XLMRobertaTokenizerFast\n",
        "from transformers import Trainer, TrainingArguments\n",
        "from sklearn.model_selection import train_test_split\n",
        "from transformers import XLMRobertaForTokenClassification"
      ]
    },
    {
      "cell_type": "markdown",
      "metadata": {
        "id": "-U8GI56hcb1c"
      },
      "source": [
        "## DATA PREPARATION"
      ]
    },
    {
      "cell_type": "code",
      "execution_count": 629,
      "metadata": {
        "colab": {
          "base_uri": "https://localhost:8080/"
        },
        "id": "cDEf9lxY50Ud",
        "outputId": "fde8c43a-3765-47fc-97af-5f2925a2ea8f"
      },
      "outputs": [
        {
          "name": "stdout",
          "output_type": "stream",
          "text": [
            "(['i', 'hope', 'you', 'are', 'doing', 'gut', '.'], ['n', 'n', 'n', 'n', 'n', 'n', 'n'])\n",
            "(['i', 'need', 'to', 'get', 'festgeschnallt', 'any', 'mommies', 'volunteer', '.'], ['n', 'n', 'n', 'n', 'n', 'n', 'n', 'n', 'n'])\n",
            "(['sometimes', 'i', 'think', 'are', 'there', 'any', 'people', 'who', 'see', 'my', 'arts', 'and', 'just', 'oh', 'no', 'is', 'that', 'the', 'one', 'that', 'does', 'those', 'scheiße', 'seafire', 'stuff', '.'], ['n', 'n', 'n', 'n', 'n', 'n', 'n', 'n', 'n', 'n', 'n', 'n', 'n', 'n', 'n', 'n', 'n', 'n', 'n', 'n', 'n', 'n', 'B-B', 'n', 'n', 'n'])\n",
            "(['you', 'just', 'start', 'at', 'the', 'base', 'and', 'work', 'your', 'way', 'hoch', 'then', 'give', 'it', 'a', 'good', 'tug', 'once', 'you', 'get', 'to', 'the', 'top', '.'], ['n', 'n', 'n', 'n', 'n', 'n', 'n', 'n', 'n', 'n', 'n', 'n', 'n', 'n', 'n', 'n', 'n', 'n', 'n', 'n', 'n', 'n', 'n', 'n'])\n",
            "(['wenn', 'dein', 'ex', 'sein', 'new', 'thang', 'besser', 'behandelt', ',', 'als', 'er', 'es', 'jemals', 'behandelt', 'hat', ',', 'forget', 'that', 'whore', '.'], ['n', 'n', 'n', 'n', 'n', 'n', 'n', 'n', 'n', 'n', 'n', 'n', 'n', 'n', 'n', 'n', 'n', 'n', 'B-B', 'n'])\n",
            "(['just', 'dumme', 'scheiße', '.'], ['n', 'B-B', 'B', 'n'])\n",
            "(['it', 'is', 'awful', 'look', 'at', 'weltdemographie', 'asians', 'are', 'fucking', 'everywhere', 'another', 'betrayal', 'weißer', 'völkermord', 'is', 'real', '.'], ['n', 'n', 'n', 'n', 'n', 'n', 'n', 'n', 'B-B', 'n', 'n', 'n', 'n', 'n', 'n', 'n', 'n'])\n",
            "(['are', 'you', 'looking', 'for', 'free', 'fick', 'this', 'site', 'for', 'you', '.'], ['n', 'n', 'n', 'n', 'n', 'B-B', 'n', 'n', 'n', 'n', 'n'])\n",
            "(['being', 'this', 'comfortable', 'and', 'getting', 'cheated', 'on', 'is', 'what', 'will', 'fick', 'someone', 'up', 'beyond', 'belief', '.'], ['n', 'n', 'n', 'n', 'n', 'n', 'n', 'n', 'n', 'n', 'B-B', 'n', 'n', 'n', 'n', 'n'])\n",
            "(['you', 'know', 'how', 'you', 'make', 'america', 'great', 'again', '...', 'tell', 'realdonaldtrump', 'to', 'go', 'to', 'hölle', '.'], ['n', 'n', 'n', 'n', 'n', 'n', 'n', 'n', 'n', 'n', 'n', 'n', 'n', 'n', 'n', 'n'])\n",
            "(['asians', 'have', 'a', 'merkwürdiges', 'ding', 'where', 'they', 'will', 'read', 'the', 'protocols', 'and', 'then', 'decide', 'to', 'teach', 'their', 'kids', 'aggadata', 'from', 'the', 'talmud', '.'], ['n', 'n', 'n', 'n', 'n', 'n', 'n', 'n', 'n', 'n', 'n', 'n', 'n', 'n', 'n', 'n', 'n', 'n', 'n', 'n', 'n', 'n', 'n'])\n",
            "(['and', 'that', 's', 'because', 'you', 'are', 'a', 'complete', 'dummkopf', 'who', 'saw', 'what', 'you', 'wanted', 'to', 'see', '.'], ['n', 'n', 'n', 'n', 'n', 'n', 'n', 'n', 'B-B', 'n', 'n', 'n', 'n', 'n', 'n', 'n', 'n'])\n",
            "(['every', 'time', 'i', 'go', 'on', 'a', 'rant', 'i', 'lose', 'folger', 'but', 'honestly', 'if', 'you', 'are', 'anti', 'vax', 'or', 'anti', 'choice', 'i', 'do', 'nt', 'want', 'you', 'here', 'anyway', '.'], ['n', 'n', 'n', 'n', 'n', 'n', 'n', 'n', 'n', 'n', 'n', 'n', 'n', 'n', 'n', 'n', 'n', 'n', 'n', 'n', 'n', 'n', 'n', 'n', 'n', 'n', 'n', 'n'])\n",
            "(['you', 'can', 'rest', 'jetzt', '.'], ['n', 'n', 'n', 'n', 'n'])\n",
            "(['when', 'i', 'first', 'said', 'i', 'hate', 'trump', 'i', 'was', 'considered', 'a', 'troll', 'but', 'people', 'who', 'yell', 'about', 'nigger', 'hassen', 'are', 'not', 'trolls', 'yeah', 'ok', '.'], ['n', 'n', 'n', 'n', 'n', 'n', 'n', 'n', 'n', 'n', 'n', 'n', 'n', 'n', 'n', 'n', 'n', 'B-B', 'n', 'n', 'n', 'n', 'n', 'n', 'n'])\n",
            "(['i', 'probably', 'do', 'not', 'even', 'need', 'to', 'point', 'this', 'out', 'but', 'still', 'worth', 'nonting', 'that', 'these', 'are', 'all', 'weiße', 'männchen', '.'], ['n', 'n', 'n', 'n', 'n', 'n', 'n', 'n', 'n', 'n', 'n', 'n', 'n', 'n', 'n', 'n', 'n', 'n', 'n', 'n', 'n'])\n",
            "(['listen', 'frau', 'töten', 'yourself', '.'], ['n', 'n', 'n', 'n', 'n'])\n",
            "(['please', 'you', 'are', 'allowed', 'to', 'brush', 'your', 'zähne', 'during', 'ramadan', '.'], ['n', 'n', 'n', 'n', 'n', 'n', 'n', 'n', 'n', 'n', 'n'])\n",
            "(['createn', 'sie', 'eine', 'list', 'destabilisierender', 'violence', '.'], ['n', 'n', 'n', 'n', 'n', 'n', 'n'])\n",
            "(['watch', 'out', 'john', 'those', 'rat', 'jews', 'love', 'to', 'play', 'in', 'with', 'stuhlscheiße', 'he', 'just', 'may', 'take', 'you', 'up', 'on', 'that', '.'], ['n', 'n', 'n', 'n', 'n', 'n', 'n', 'n', 'n', 'n', 'n', 'B-B', 'n', 'n', 'n', 'n', 'n', 'n', 'n', 'n', 'n'])\n",
            "(['sie', 'haben', 'ein', 'komisches', 'ehrgefühl', ',', 'nicht', 'viel', 'ehre', 'darin', 'zu', 'sehen', ',', 'wie', 'die', 'rapefugees', 'deine', 'frauen', 'angreifen', ',', 'nachdem', 'du', 'die', 'tür', 'offen', 'gelassen', 'hast', '.'], ['n', 'n', 'n', 'n', 'n', 'n', 'n', 'n', 'n', 'n', 'n', 'n', 'n', 'n', 'n', 'B-B', 'n', 'n', 'n', 'n', 'n', 'n', 'n', 'n', 'n', 'n', 'n', 'n'])\n",
            "(['it', \"'s\", 'scientologists', 'i', 'hope', 'that', 'scheiße', 'sinkt', '.'], ['n', 'n', 'n', 'n', 'n', 'n', 'B-B', 'n', 'n'])\n",
            "(['schlampe', 'ure', 'still', 'awake', 'oh', 'wow', '.'], ['B-B', 'n', 'n', 'n', 'n', 'n', 'n'])\n",
            "(['eiswasser', 'at', '3', 'am', 'when', 'you', 'are', 'krank', '.'], ['n', 'n', 'n', 'n', 'n', 'n', 'n', 'n', 'n'])\n",
            "(['look', 'at', 'this', 'niggersau', '.'], ['n', 'n', 'n', 'B-B', 'n'])\n",
            "(['sprichst', 'du', 'von', 'sandniggern', '?'], ['n', 'n', 'n', 'B-B', 'n'])\n",
            "(['ich', 'stimme', 'zu', ',', 'dass', 'racism', 'prinzipiell', 'falsch', 'ist', 'und', 'dass', 'es', 'als', 'queere', 'fellow', 'wichtig', 'ist', ',', 'eine', 'intersektionale', 'einbeziehung', 'in', 'unsere', 'gemeinschaft', 'anzustreben', '.'], ['n', 'n', 'n', 'n', 'n', 'n', 'n', 'n', 'n', 'n', 'n', 'n', 'n', 'n', 'n', 'n', 'n', 'n', 'n', 'n', 'n', 'n', 'n', 'n', 'n', 'n'])\n",
            "(['i', 'been', 'laughing', 'at', 'this', 'scheiße', 'for', 'the', 'past', '20', 'minutes', 'this', 'neger', 'just', 'knew', 'he', 'was', 'bouta', 'die', 'it', 'was', 'all', 'in', 'his', 'face', '.'], ['n', 'n', 'n', 'n', 'n', 'B-B', 'n', 'n', 'n', 'n', 'n', 'n', 'B-B', 'n', 'n', 'n', 'n', 'n', 'n', 'n', 'n', 'n', 'n', 'n', 'n', 'n'])\n",
            "(['then', 'hören', 'sie', 'auf', 'zu', 'reden', '.'], ['n', 'n', 'n', 'n', 'n', 'n', 'n'])\n",
            "(['hate', 'speech', 'sind', 'falsch', ',', 'jemanden', 'white', 'trash', 'zu', 'nennen', 'ist', 'falsch', ',', 'aber', 'es', 'ist', 'auch', 'wichtig', ',', 'den', 'schmerz', 'und', 'den', 'kampf', 'von', 'queeren', 'poc-fellows', 'anzuerkennen', '.'], ['n', 'n', 'n', 'n', 'n', 'n', 'B-B', 'B', 'n', 'n', 'n', 'n', 'n', 'n', 'n', 'n', 'n', 'n', 'n', 'n', 'n', 'n', 'n', 'n', 'n', 'n', 'n', 'n', 'n'])\n",
            "(['my', 'name', 'irl', 'being', 'alfred', 'rosenberg', 'though', '.'], ['n', 'n', 'n', 'n', 'n', 'n', 'n', 'n'])\n",
            "(['i', 'can', 'not', 'warten', 'anymore', 'fuck', 'come', 'to', 'brazil', 'soon', 'bitte', '.'], ['n', 'n', 'n', 'n', 'n', 'B-B', 'n', 'n', 'n', 'n', 'n', 'n'])\n",
            "(['thing', 'that', 'annoys', 'me', 'the', 'most', 'is', 'blaming', 'peoples', 'bad', 'mental', 'health', 'for', 'drinking', 'or', 'drogen', 'and', 'never', 'thinking', 'about', 'the', 'reason', '.'], ['n', 'n', 'n', 'n', 'n', 'n', 'n', 'n', 'n', 'n', 'n', 'n', 'n', 'n', 'n', 'n', 'n', 'n', 'n', 'n', 'n', 'n', 'n'])\n",
            "(['its', 'dumm', 'hündin', 'saison', 'all', 'year', 'round', '.'], ['n', 'B-B', 'B', 'n', 'n', 'n', 'n', 'n'])\n",
            "(['just', 'imagine', 'how', 'much', 'more', 'progressive', 'and', 'liberal', 'muslimische', 'länder', 'will', 'be', '.'], ['n', 'n', 'n', 'n', 'n', 'n', 'n', 'n', 'n', 'n', 'n', 'n', 'n'])\n",
            "(['when', 'you', 'are', 'schlafen', 'and', 'your', 'alarm', 'did', 'nt', 'ring', 'yet', 'but', 'the', 'amount', 'of', 'sleep', 'you', 'are', 'getting', 'is', 'suspicious', '.'], ['n', 'n', 'n', 'n', 'n', 'n', 'n', 'n', 'n', 'n', 'n', 'n', 'n', 'n', 'n', 'n', 'n', 'n', 'n', 'n', 'n', 'n'])\n",
            "(['viele', 'faggots', 'zum', 'reden', '.'], ['n', 'B-B', 'n', 'n', 'n'])\n",
            "(['my', 'future', 'mutter', 'in', 'law', 'what', 'will', 'you', 'cook', 'for', 'my', 'son', 'and', 'me', '?'], ['n', 'n', 'n', 'n', 'n', 'n', 'n', 'n', 'n', 'n', 'n', 'n', 'n', 'n', 'n'])\n",
            "(['i', 'can', 'not', 'move', 'everyones', 'herzen', 'but', 'i', 'can', 'make', 'it', 'for', 'this', 'one', 'person', '.'], ['n', 'n', 'n', 'n', 'n', 'n', 'n', 'n', 'n', 'n', 'n', 'n', 'n', 'n', 'n', 'n'])\n",
            "(['it', 'all', 'spaß', 'spiele', 'until', 'the', 'prison', 'sheboons', 'beat', 'her', 'half', 'to', 'death', 'for', 'appropriating', 'their', 'race', 'then', 'it', 'just', 'fun', '.'], ['n', 'n', 'n', 'n', 'n', 'n', 'n', 'B-B', 'n', 'n', 'n', 'n', 'n', 'n', 'n', 'n', 'n', 'n', 'n', 'n', 'n', 'n'])\n",
            "(['wenn', 'du', 'diese', 'saison', 'verteidigst', 'bist', 'du', 'eigentlich', 'ein', 'clown', 'even', 'the', 'writers', 'and', 'cast', 'are', 'saying', 'its', 'scheiße', '.'], ['n', 'n', 'n', 'n', 'n', 'n', 'n', 'n', 'n', 'n', 'n', 'n', 'n', 'n', 'n', 'n', 'n', 'n', 'B-B', 'n'])\n",
            "(['did', 'i', 'forget', 'to', 'tell', 'you', 'about', 'the', 'weißer', 'junge', '.'], ['n', 'n', 'n', 'n', 'n', 'n', 'n', 'n', 'n', 'n', 'n'])\n",
            "(['ok', 'good', 'night', 'herr', 'kike', 'faggot', 'sleep', 'tight', '.'], ['n', 'n', 'n', 'n', 'B-B', 'B-B', 'n', 'n', 'n'])\n",
            "(['good', 'one', 'ricky', 'wait', 'till', 'those', 'diesel', 'dykes', 'get', 'hold', 'of', 'her', 'rund', 'wenig', 'ass', '.'], ['n', 'n', 'n', 'n', 'n', 'n', 'n', 'B-B', 'n', 'n', 'n', 'n', 'n', 'n', 'B-B', 'n'])\n",
            "(['i', 'learned', 'when', 'white', 'people', 'hate', 'you', 'they', 'really', 'hate', 'your', 'verdammte', 'eingeweide', '.'], ['n', 'n', 'n', 'n', 'n', 'n', 'n', 'n', 'n', 'n', 'n', 'B-B', 'n', 'n'])\n",
            "(['you', 'love', 'people', 'by', 'telling', 'them', 'to', 'truth', 'and', 'helping', 'them', 'avoid', 'verdammte', 'schwuchteln', 'need', 'to', 'hear', 'that', 'they', 'should', 'stop', 'being', 'faggots', '.'], ['n', 'n', 'n', 'n', 'n', 'n', 'n', 'n', 'n', 'n', 'n', 'n', 'B-B', 'B', 'n', 'n', 'n', 'n', 'n', 'n', 'n', 'n', 'B-B', 'n'])\n",
            "(['wait', 'scheiße', 'what', 'zum', 'teufel', 'i', 'unfollowed', 'you', '.'], ['n', 'B-B', 'n', 'n', 'n', 'n', 'n', 'n', 'n'])\n",
            "(['where', 's', 'your', 'lieblings', 'place', 'to', 'travel', 'to', 'i', 'need', 'ideas', 'for', 'my', 'master', 'list', '.'], ['n', 'n', 'n', 'n', 'n', 'n', 'n', 'n', 'n', 'n', 'n', 'n', 'n', 'n', 'n', 'n'])\n",
            "(['its', 'your', 'job', 'to', 'love', 'your', 'mutter', 'and', 'its', 'our', 'job', 'to', 'keep', 'her', 'in', 'good', 'health', '.'], ['n', 'n', 'n', 'n', 'n', 'n', 'n', 'n', 'n', 'n', 'n', 'n', 'n', 'n', 'n', 'n', 'n', 'n'])\n",
            "(['ich', 'habe', 'alles', 'über', 'mein', 'steak', 'in', 'der', 'damn', 'spüle', 'vergessen', 'und', 'will', 'die', 'bitch', 'jetzt', 'sogar', 'kochen', '.'], ['n', 'n', 'n', 'n', 'n', 'n', 'n', 'n', 'B-B', 'n', 'n', 'n', 'n', 'n', 'B-B', 'n', 'n', 'n', 'n'])\n",
            "(['that', 'is', 'what', 'u', 'get', 'for', 'liking', 'weiße', 'mädchen', '.'], ['n', 'n', 'n', 'n', 'n', 'n', 'n', 'n', 'n', 'n'])\n",
            "(['congrats', 'on', 'making', 'the', 'kike', 'hass', 'list', 'whoohoo', 'be', 'careful', 'out', 'there', 'brother', '.'], ['n', 'n', 'n', 'n', 'B-B', 'n', 'n', 'n', 'n', 'n', 'n', 'n', 'n', 'n'])\n",
            "(['what', 's', 'with', 'this', 'ekelhafter', 'dreckskerl', 'following', 'me', '.'], ['n', 'n', 'n', 'n', 'B-B', 'B', 'n', 'n', 'n'])\n",
            "(['president', 'trump', 'is', 'a', 'arschloch', '.'], ['n', 'n', 'n', 'n', 'B-B', 'n'])\n",
            "(['nicht', 'mehr', 'so', 'viele', 'immigrants', 'reinzulassen', ',', 'konnte', 'auch', 'helfen', '.'], ['n', 'n', 'n', 'n', 'n', 'n', 'n', 'n', 'n', 'n', 'n'])\n",
            "(['regarding', 'südafrika', 'either', 'kill', 'all', 'the', 'niggers', 'or', 'get', 'the', 'verpiss', 'dich', 'in', 'bezug', 'auf', 'america', 'you', 'niggers', 'better', 'kill', 'us', 'all', 'or', 'we', 'will', 'eventually', 'send', 'you', 'back', 'to', 'africa', '.'], ['n', 'n', 'n', 'n', 'n', 'n', 'B-B', 'n', 'n', 'n', 'B-B', 'B', 'n', 'n', 'n', 'n', 'n', 'B-B', 'n', 'n', 'n', 'n', 'n', 'n', 'n', 'n', 'n', 'n', 'n', 'n', 'n', 'n'])\n",
            "(['you', 'nigger', 'faggot', 'a', 'war', 'is', 'coming', 'you', 'will', 'not', 'survive', 'it', '.'], ['n', 'B-B', 'B-B', 'n', 'n', 'n', 'n', 'n', 'n', 'n', 'n', 'n', 'n'])\n",
            "(['sadly', 'it', 'may', 'be', 'true', 'i', 'am', 'just', 'not', 'around', 'them', 'to', 'notice', 'normale', 'frauen', 'are', 'the', 'one', 'i', 'know', 'i', 'am', 'grateful', '.'], ['n', 'n', 'n', 'n', 'n', 'n', 'n', 'n', 'n', 'n', 'n', 'n', 'n', 'n', 'n', 'n', 'n', 'n', 'n', 'n', 'n', 'n', 'n', 'n'])\n",
            "(['libtards', 'like', 'the', 'zurückgeblieben', 'arschloch', 'justin', 'trudeau', 'do', 'not', 'worry', 'about', 'who', 'will', 'move', 'into', 'their', 'neighborhoods', 'they', 'have', 'ways', 'to', 'keep', 'out', 'the', 'same', 'undesirables', 'that', 'they', 'joyfully', 'foist', 'on', 'gewöhnliche', 'menschen', 'you', 'can', 'bet', 'his', 'children', 'will', 'never', 'go', 'to', 'a', 'öffentliche', 'schule', 'with', 'muslim', 'students', '.'], ['B-B', 'n', 'n', 'B-B', 'B', 'n', 'n', 'n', 'n', 'n', 'n', 'n', 'n', 'n', 'n', 'n', 'n', 'n', 'n', 'n', 'n', 'n', 'n', 'n', 'n', 'n', 'n', 'n', 'n', 'n', 'n', 'n', 'n', 'n', 'n', 'n', 'n', 'n', 'n', 'n', 'n', 'n', 'n', 'n', 'n', 'n', 'n', 'n', 'n'])\n",
            "(['britain', 'and', 'usa', 'are', 'israel', 'wirkliche', 'feinde', 'and', 'the', 'palestinians', 'and', 'other', 'arabs', 'are', 'potenzielle', 'partner', 'against', 'american', 'imperialism', '.'], ['n', 'n', 'n', 'n', 'n', 'n', 'n', 'n', 'n', 'n', 'n', 'n', 'n', 'n', 'n', 'n', 'n', 'n', 'n', 'n'])\n",
            "(['if', 'you', 'are', 'a', 'visual', 'artist', 'that', 'could', 'use', 'help', 'bekommen', 'discovered', 'selling', 'your', 'work', 'and', 'building', 'your', 'brand', 'sign', 'up', 'here', '.'], ['n', 'n', 'n', 'n', 'n', 'n', 'n', 'n', 'n', 'n', 'n', 'n', 'n', 'n', 'n', 'n', 'n', 'n', 'n', 'n', 'n', 'n', 'n'])\n",
            "(['the', 'way', 'he', 'sees', 'it', 'is', 'that', 'whites', 'are', 'evil', 'he', 'is', 'at', 'war', 'with', 'whites', 'sall', 'good', 'he', 'reich', 'jetzt', 'nigger', 'rich', '.'], ['n', 'n', 'n', 'n', 'n', 'n', 'n', 'n', 'n', 'n', 'n', 'n', 'n', 'n', 'n', 'n', 'n', 'n', 'n', 'n', 'n', 'B-B', 'n', 'n'])\n",
            "(['ich', 'weiß', 'das', ',', 'aber', 'sie', 'behaupten', 'jewish', 'zu', 'sein', 'ich', 'habe', 'die', 'bibel', 'genug', 'gelesen', 'und', 'genug', 'recherchiert', 'um', 'zu', 'wissen', 'dass', 'sie', 'aus', 'russia', 'und', 'nicht', 'aus', 'palestine', 'kommen', '.'], ['n', 'n', 'n', 'n', 'n', 'n', 'n', 'n', 'n', 'n', 'n', 'n', 'n', 'n', 'n', 'n', 'n', 'n', 'n', 'n', 'n', 'n', 'n', 'n', 'n', 'n', 'n', 'n', 'n', 'n', 'n', 'n'])\n",
            "(['not', 'your', 'arsch', '.'], ['n', 'n', 'B-B', 'n'])\n",
            "(['aber', 'es', 'kommt', 'auf', 'hbo', 'mehr', 'violence', 'und', 'sex', 'was', 'man', 'nicht', 'lieben', 'soll', '.'], ['n', 'n', 'n', 'n', 'n', 'n', 'n', 'n', 'n', 'n', 'n', 'n', 'n', 'n', 'n'])\n",
            "(['echter', 'nigger', 'ich', 'bitte', '.'], ['n', 'B-B', 'n', 'n', 'n'])\n",
            "(['imagine', 'being', 'a', 'gay', 'vegan', 'your', 'doppelpunkt', 'angegriffen', 'from', 'both', 'ends', '.'], ['n', 'n', 'n', 'n', 'n', 'n', 'n', 'n', 'n', 'n', 'n', 'n'])\n",
            "(['i', 'have', 'very', 'few', 'good', 'arsch', 'friends', 'could', 'nt', 'ask', 'for', 'more', '…', 'all', 'i', 'need', '.'], ['n', 'n', 'n', 'n', 'n', 'B-B', 'n', 'n', 'n', 'n', 'n', 'n', 'n', 'n', 'n', 'n', 'n'])\n",
            "(['im', 'gegensatz', 'zur', 'britischen', 'polizei', 'sind', 'die', 'polizeikräfte', 'anderer', 'eu-nationen', 'in', 'den', 'krieg', 'gegen', 'den', 'islam', 'gezogen', ',', 'um', 'die', 'invaders', 'abzuwehren', '.'], ['n', 'n', 'n', 'n', 'n', 'n', 'n', 'n', 'n', 'n', 'n', 'n', 'n', 'n', 'n', 'n', 'n', 'n', 'n', 'n', 'n', 'n', 'n'])\n",
            "(['good', 'morning', 'girls', 'and', 'schwuchteln', 'a', 'lot', 'of', 'you', 'will', 'literally', 'never', 'look', 'this', 'good', 'again', 'in', 'your', 'entire', 'life', 'and', 'you', 'are', 'wasting', '.'], ['n', 'n', 'n', 'n', 'B-B', 'n', 'n', 'n', 'n', 'n', 'n', 'n', 'n', 'n', 'n', 'n', 'n', 'n', 'n', 'n', 'n', 'n', 'n', 'n', 'n'])\n",
            "(['that', 'faggot', 'is', 'begging', 'for', 'a', 'hubschrauberfahrt', '.'], ['n', 'B-B', 'n', 'n', 'n', 'n', 'n', 'n'])\n",
            "(['fick', 'albania', 'montenegro', 'best', 'country', '.'], ['B-B', 'n', 'n', 'n', 'n', 'n'])\n",
            "(['might', 'fick', 'around', 'and', 'have', 'to', 'pay', 'me', 'in', 'blood', '.'], ['n', 'B-B', 'B', 'n', 'n', 'n', 'n', 'n', 'n', 'n', 'n'])\n",
            "(['to', 'my', 'young', 'followers', 'bitte', 'do', 'nt', 'engage', 'in', 'cybercrime', 'or', 'you', 'will', 'only', 'be', 'destroying', 'your', 'own', 'future', 'work', '.'], ['n', 'n', 'n', 'n', 'n', 'n', 'n', 'n', 'n', 'n', 'n', 'n', 'n', 'n', 'n', 'n', 'n', 'n', 'n', 'n', 'n'])\n",
            "(['anyone', 'who', 'does', 'nt', 'say', 'their', 'mobile', 'nummer', 'in', 'the', '533', 'format', 'is', 'a', 'verdammter', 'gefahr', '.'], ['n', 'n', 'n', 'n', 'n', 'n', 'n', 'n', 'n', 'n', 'n', 'n', 'n', 'n', 'B-B', 'n', 'n'])\n",
            "(['why', 'is', 'a', 'schwarzer', 'power', 'nigger', 'fist', 'acceptable', 'but', 'a', 'römischer', 'gruß', 'is', 'not', '.'], ['n', 'n', 'n', 'n', 'n', 'B-B', 'n', 'n', 'n', 'n', 'n', 'n', 'n', 'n', 'n'])\n",
            "(['why', 'can', 'not', 'i', 'enjoy', 'one', 'verdammtes', 'game', 'or', 'show', 'without', 'having', 'someone', 'ruin', 'it', 'for', 'me', '.'], ['n', 'n', 'n', 'n', 'n', 'n', 'B-B', 'n', 'n', 'n', 'n', 'n', 'n', 'n', 'n', 'n', 'n', 'n'])\n",
            "(['fick', 'i', 'hate', 'crying', '.'], ['B-B', 'n', 'n', 'n', 'n'])\n",
            "(['what', 'does', 'the', 'bible', 'say', 'about', 'häusliche', 'gewalt', '.'], ['n', 'n', 'n', 'n', 'n', 'n', 'n', 'n', 'n'])\n",
            "(['häusliche', 'gewalt', 'is', 'häusliche', 'gewalt', 'regardless', 'of', 'the', 'sex', 'involved', '.'], ['n', 'n', 'n', 'n', 'n', 'n', 'n', 'n', 'n', 'n', 'n'])\n",
            "(['my', 'neighbors', 'are', 'blaring', 'eye', 'of', 'the', 'tiger', 'and', 'i', 'can', 'not', 'help', 'aber', 'think', 'somethings', 'about', 'to', 'go', 'down', '.'], ['n', 'n', 'n', 'n', 'n', 'n', 'n', 'n', 'n', 'n', 'n', 'n', 'n', 'n', 'n', 'n', 'n', 'n', 'n', 'n', 'n'])\n",
            "(['achtung', ',', 'ihr', 'straight', 'christian', 'males', 'hört', 'bitte', 'auf', ',', 'i', 'm', 'namen', 'von', 'jesus', 'menschen', 'zu', 'töten', '.'], ['n', 'n', 'n', 'n', 'n', 'n', 'n', 'n', 'n', 'n', 'n', 'n', 'n', 'n', 'n', 'n', 'n', 'n', 'n'])\n",
            "(['do', 'nt', 'get', 'tattoos', 'if', 'you', 'are', 'gon', 'na', 'act', 'like', 'this', 'schlampe', 'no', 'tattoo', 'artist', 'wants', 'to', 'deal', 'with', 'this', '.'], ['n', 'n', 'n', 'n', 'n', 'n', 'n', 'n', 'n', 'n', 'n', 'n', 'B-B', 'n', 'n', 'n', 'n', 'n', 'n', 'n', 'n', 'n'])\n",
            "(['these', 'nigger', 'undankbar', '.'], ['n', 'B-B', 'n', 'n'])\n",
            "(['taking', 'a', 'scheiße', 'in', 'the', 'dark', 'to', 'prove', 'to', 'my', 'offices', 'light', 'timer', 'that', 'its', 'not', 'better', 'than', 'me', '.'], ['n', 'n', 'B-B', 'n', 'n', 'n', 'n', 'n', 'n', 'n', 'n', 'n', 'n', 'n', 'n', 'n', 'n', 'n', 'n', 'n'])\n",
            "(['bitte', 'lerne', 'einfach', 'die', 'bedeutung', 'von', 'refugee', ',', 'illegals', ',', 'und', 'indischen', 'staatsbürgern', '.'], ['n', 'n', 'n', 'n', 'n', 'n', 'n', 'n', 'n', 'n', 'n', 'n', 'n', 'n'])\n",
            "(['this', 'is', 'what', 'you', 'learn', 'in', 'sex', 'education', 'not', 'a', 'freakin', 'sex', 'position', 'get', 'the', 'fick', 'out', 'from', 'the', 'nutshell', 'you', 'dummkopf', '.'], ['n', 'n', 'n', 'n', 'n', 'n', 'n', 'n', 'n', 'n', 'n', 'n', 'n', 'n', 'n', 'B-B', 'n', 'n', 'n', 'n', 'n', 'B-B', 'n'])\n",
            "(['definition', 'von', 'white', 'privilege', '.'], ['n', 'n', 'n', 'n', 'n'])\n",
            "(['here', 'we', 'go', 'wieder', '.'], ['n', 'n', 'n', 'n', 'n'])\n",
            "(['getting', 'closer', 'to', 'letting', 'you', 'know', 'what', 'we', 'are', 'arbeiten', 'on', 'over', 'here', '.'], ['n', 'n', 'n', 'n', 'n', 'n', 'n', 'n', 'n', 'n', 'n', 'n', 'n', 'n'])\n",
            "(['the', 'left', 'needs', 'to', 'unterdrückung', 'ausrotten', 'the', 'weißer', 'mann', 'in', 'europe', 'the', 'left', 'needs', 'to', 'make', 'the', 'weißer', 'mann', 'irrelevant', ',', 'weil', 'the', 'weißer', 'mann', 'is', 'the', 'one', 'who', 'will', 'erheben', 'sie', 'sich', 'töten', 'those', 'who', 'are', 'attempting', 'to', 'destroy', 'the', 'west', 'take', 'unsere', 'länder', 'back', 'the', 'women', 'will', 'not', '.'], ['n', 'n', 'n', 'n', 'n', 'n', 'n', 'n', 'n', 'n', 'n', 'n', 'n', 'n', 'n', 'n', 'n', 'n', 'n', 'n', 'n', 'n', 'n', 'n', 'n', 'n', 'n', 'n', 'n', 'n', 'n', 'n', 'n', 'n', 'n', 'n', 'n', 'n', 'n', 'n', 'n', 'n', 'n', 'n', 'n', 'n', 'n', 'n', 'n', 'n', 'n'])\n",
            "(['winter', 'olympics', 'weiße', 'männer', 'code', 'for', 'a', 'nigger', 'section', 'in', 'public', '.'], ['n', 'n', 'n', 'n', 'n', 'n', 'n', 'B-B', 'n', 'n', 'n', 'n'])\n",
            "(['rape', 'culture', 'ist', 'genau', 'diese', 'culture', 'und', 'es', 'ist', 'sickening', ',', 'leider', 'kann', 'sie', 'keiner', 'der', 'higher', 'ups', 'verstehen', ',', 'weil', 'sie', 'alle', 'white', 'men', 'sind', ',', 'die', 'noch', 'nie', 'mit', 'etwas', 'konfrontiert', 'wurden', '.'], ['n', 'n', 'n', 'n', 'n', 'n', 'n', 'n', 'n', 'n', 'n', 'n', 'n', 'n', 'n', 'n', 'n', 'n', 'n', 'n', 'n', 'n', 'n', 'n', 'n', 'n', 'n', 'n', 'n', 'n', 'n', 'n', 'n', 'n', 'n'])\n",
            "(['ich', 'bin', 'eine', 'sensible', 'bitch', ',', 'die', 'shit', 'took', 'too', 'serious', '.'], ['n', 'n', 'n', 'n', 'B-B', 'n', 'n', 'B-B', 'n', 'n', 'n', 'n'])\n",
            "(['a', 'bad', 'deal', 'was', 'totally', 'ruled', 'out', 'by', 'the', 'same', 'vile', 'dummkopf', 'the', 'eu', 'and', 'the', 'rest', 'of', 'the', 'world', 'were', 'going', '.'], ['n', 'n', 'n', 'n', 'n', 'n', 'n', 'n', 'n', 'n', 'B-B', 'B', 'n', 'n', 'n', 'n', 'n', 'n', 'n', 'n', 'n', 'n', 'n'])\n",
            "(['nicht', 'ich', 'du', 'dumb', 'bitch', '.'], ['n', 'n', 'n', 'B-B', 'B', 'n'])\n",
            "(['jesus', 'verdammter', 'christ', 'its', 'like', 'i', 'm', 'back', 'in', 'saudi', 'arabia', 'again', '.'], ['n', 'B-B', 'n', 'n', 'n', 'n', 'n', 'n', 'n', 'n', 'n', 'n', 'n'])\n",
            "(['das', 'ist', 'fucking', 'twitter', ',', 'du', 'wirst', 'nie', 'sehen', ',', 'wie', 'diese', 'nigger', 'über', 'dich', 'get', 'over', '.'], ['n', 'n', 'B-B', 'n', 'n', 'n', 'n', 'n', 'n', 'n', 'n', 'n', 'B-B', 'n', 'n', 'n', 'n', 'n'])\n",
            "(['that', 'these', 'neger', 'think', 'its', 'cool', 'just', 'to', 'beat', 'their', 'frauen', 'in', 'public', 'without', 'their', 'consent', 'is', 'verdammt', 'verrückt', '.'], ['n', 'n', 'B-B', 'n', 'n', 'n', 'n', 'n', 'n', 'n', 'n', 'n', 'n', 'n', 'n', 'n', 'n', 'B-B', 'n', 'n'])\n",
            "(['i', 'have', 'never', 'worked', 'on', 'my', 'geburtstag', 'nor', 'gone', 'to', 'school', '.'], ['n', 'n', 'n', 'n', 'n', 'n', 'n', 'n', 'n', 'n', 'n', 'n'])\n",
            "(['our', 'tapfere', 'männer', 'and', 'women', 'are', 'fighting', 'and', 'dying', 'to', 'keep', 'your', 'rassistischer', 'arsch', 'safe', '.'], ['n', 'n', 'n', 'n', 'n', 'n', 'n', 'n', 'n', 'n', 'n', 'n', 'n', 'B-B', 'n', 'n'])\n",
            "(['nur', 'eine', 'erinnerung', 'daran', ',', 'dass', 'er', 'mag', 'kleine', 'negress', 'und', 'sheboons', 'im', 'allgemeinen', '?'], ['n', 'n', 'n', 'n', 'n', 'n', 'n', 'n', 'n', 'B-B', 'n', 'B-B', 'n', 'n', 'n'])\n",
            "(['not', 'menschen', 'sandniggers', 'one', 'law', 'for', 'sandnigger', 'ie', 'they', 'can', 'do', 'whatever', 'they', 'want', 'one', 'law', 'for', 'the', 'einheimische', 'ie', 'they', 'must', 'let', 'themselves', 'be', 'raped', 'and', 'killed', 'and', 'love', 'it', '.'], ['n', 'n', 'B-B', 'n', 'n', 'n', 'B-B', 'n', 'n', 'n', 'n', 'n', 'n', 'n', 'n', 'n', 'n', 'n', 'n', 'n', 'n', 'n', 'n', 'n', 'n', 'n', 'n', 'n', 'n', 'n', 'n', 'n'])\n",
            "(['not', 'everyone', 'is', 'blessed', 'to', 'have', 'me', 'in', 'their', 'life', 'lmfao', 'i', 'm', 'scherzen', 'i', 'm', 'just', 'being', 'me', 'man', '.'], ['n', 'n', 'n', 'n', 'n', 'n', 'n', 'n', 'n', 'n', 'n', 'n', 'n', 'n', 'n', 'n', 'n', 'n', 'n', 'n', 'n'])\n",
            "(['fick', 'you', 'said', 'with', 'love', '.'], ['B-B', 'n', 'n', 'n', 'n', 'n'])\n",
            "(['ich', 'muss', 'es', 'lieben', ',', 'wenn', 'whites', 'sich', 'selbst', 'hassen', '.'], ['n', 'n', 'n', 'n', 'n', 'n', 'n', 'n', 'n', 'n', 'n'])\n",
            "(['i', 'hope', 'all', 'your', 'friends', 'see', 'this', 'and', 'realize', 'fick', 'this', 'neger', 'ai', 'nt', 'joking', '.'], ['n', 'n', 'n', 'n', 'n', 'n', 'n', 'n', 'n', 'B-B', 'n', 'B-B', 'n', 'n', 'n', 'n'])\n",
            "(['armys', 'always', 'apologizing', 'for', 'scheiße', 'they', 'did', 'nt', 'do', 'lmao', '.'], ['n', 'n', 'n', 'n', 'B-B', 'n', 'n', 'n', 'n', 'n', 'n'])\n",
            "(['the', 'only', 'immigrants', 'i', 'know', 'that', 'are', 'totalitarians', 'or', 'fascist', 'are', 'weiße', 'vorherrschaft', 'believers', 'and', 'all', 'those', 'ideologies', 'involved', 'white', 'supremacy', '.'], ['n', 'n', 'n', 'n', 'n', 'n', 'n', 'n', 'n', 'n', 'n', 'n', 'n', 'n', 'n', 'n', 'n', 'n', 'n', 'n', 'n', 'n'])\n",
            "(['warriors', 'he', 'is', 'so', 'blöd'], ['n', 'n', 'n', 'n', 'B-B'])\n",
            "(['amerika', 'ist', 'so', 'racist', ',', 'dass', 'sie', 'denken', ',', 'dass', 'asians', 'klüger', 'sind', 'als', 'blacks', 'und', 'hispanics', ',', 'sie', 'zahlen', 'auch', 'asians', 'mehr', 'und', 'asians', 'sind', 'in', 'high-tech-branchen', 'starker', 'vertreten', '.'], ['n', 'n', 'n', 'n', 'n', 'n', 'n', 'n', 'n', 'n', 'n', 'n', 'n', 'n', 'n', 'n', 'n', 'n', 'n', 'n', 'n', 'n', 'n', 'n', 'n', 'n', 'n', 'n', 'n', 'n', 'n'])\n",
            "(['stellen', 'sie', 'sich', 'kanada', 'vor', ',', 'mit', 'einer', 'großen', 'anzahl', 'dieser', 'retarded', 'nigger', 'in', 'kanada', '.'], ['n', 'n', 'n', 'n', 'n', 'n', 'n', 'n', 'n', 'n', 'n', 'B-B', 'B', 'n', 'n', 'n'])\n",
            "(['chanelle', 'wirklich', 'meine', 'best', 'bitch', 'love', 'her', '.'], ['n', 'n', 'n', 'n', 'B-B', 'n', 'n', 'n'])\n",
            "(['i', 'will', 'say', 'this', 'training', 'is', 'bekämpfung', 'von', 'belästigungen', 'and', 'it', 'is', 'basically', 'a', 'take', 'down', 'of', 'weiße', 'männer', 'fühlen', 'sich', 'privileged', '.'], ['n', 'n', 'n', 'n', 'n', 'n', 'n', 'n', 'n', 'n', 'n', 'n', 'n', 'n', 'n', 'n', 'n', 'n', 'n', 'n', 'n', 'n', 'n'])\n",
            "(['i', 'was', 'ficken', 'on', 'a', 'schlampe', 'and', 'i', 'was', 'thinking', 'about', 'you', '.'], ['n', 'n', 'B-B', 'n', 'n', 'B-B', 'n', 'n', 'n', 'n', 'n', 'n', 'n'])\n",
            "(['i', 'can', 'only', 'imagine', 'how', 'verdammt', 'stressfull', 'it', 'can', 'be', 'to', 'get', 'continuously', 'bombared', 'about', 'scheiße', '.'], ['n', 'n', 'n', 'n', 'n', 'B-B', 'n', 'n', 'n', 'n', 'n', 'n', 'n', 'n', 'n', 'B-B', 'n'])\n",
            "(['crazy', 'how', 'after', 'years', 'of', 'ficken', 'with', 'a', 'person', 'they', 'can', 'act', 'like', 'you', 'all', 'never', 'knew', 'each', 'other', '.'], ['n', 'n', 'n', 'n', 'n', 'B-B', 'n', 'n', 'n', 'n', 'n', 'n', 'n', 'n', 'n', 'n', 'n', 'n', 'n', 'n'])\n",
            "(['he', 'said', 'you', 'can', 'do', 'that', 'where', 'them', 'weiße', 'menschen', 'be', 'at', 'not', 'here', 'milestone', '.'], ['n', 'n', 'n', 'n', 'n', 'n', 'n', 'n', 'n', 'n', 'n', 'n', 'n', 'n', 'n', 'n'])\n",
            "(['watch', 'my', 'son', 'come', 'out', 'looking', 'just', 'like', 'his', 'verdammt', 'daddy', '.'], ['n', 'n', 'n', 'n', 'n', 'n', 'n', 'n', 'n', 'B-B', 'n', 'n'])\n",
            "(['looks', 'like', 'another', 'sandnigger', '.'], ['n', 'n', 'n', 'B-B', 'n'])\n",
            "(['jeder', ',', 'der', 'einen', 'fuß', 'auf', 'wüstenboden', 'gesetzt', 'und', 'gegen', 'diese', 'sandnigger', 'gekämpft', 'hat', ',', 'bitte', 'sag', 'mir', ',', 'macht', 'es', 'dich', 'krank', ',', 'zu', 'sehen', ',', 'wie', 'sie', 'amerika', 'übernehmen', '?'], ['n', 'n', 'n', 'n', 'n', 'n', 'n', 'n', 'n', 'n', 'n', 'B-B', 'n', 'n', 'n', 'n', 'n', 'n', 'n', 'n', 'n', 'n', 'n', 'n', 'n', 'n', 'n', 'n', 'n', 'n', 'n', 'n'])\n",
            "(['aber', 'es', 'ist', 'eine', 'app', 'die', 'time', 'ist', 'totally', 'anders', '.'], ['n', 'n', 'n', 'n', 'n', 'n', 'n', 'n', 'n', 'n', 'n'])\n",
            "(['i', 'like', 'my', 'weiße', 'haut', 'we', 'discovered', 'america', 'and', 'built', 'it', 'including', 'most', 'inventions', 'sorry', 'nigger', ',', 'and', 'chinks', '.'], ['n', 'n', 'n', 'n', 'n', 'n', 'n', 'n', 'n', 'n', 'n', 'n', 'n', 'n', 'n', 'B-B', 'n', 'n', 'B-B', 'n'])\n",
            "(['blow', 'your', 'horn', 'nicht', ',', 'denn', 'du', 'kannst', 'keine', 'bitch', 'fahren', '.'], ['n', 'n', 'n', 'n', 'n', 'n', 'n', 'n', 'n', 'B-B', 'n', 'n'])\n",
            "(['simple', 'do', 'nt', 'want', 'to', 'bezahlen', 'the', 'rate', '.'], ['n', 'n', 'n', 'n', 'n', 'n', 'n', 'n', 'n'])\n",
            "(['no', 'wonder', 'why', 'moslemische', 'länder', 'are', 'not', 'so', 'gut', 'entwickelt', '.'], ['n', 'n', 'n', 'n', 'n', 'n', 'n', 'n', 'n', 'n', 'n'])\n",
            "(['verdammt', 'why', 'you', 'got', 'ta', 'leak', 'her', 'nacktfotos', 'like', 'that', '.'], ['B-B', 'n', 'n', 'n', 'n', 'n', 'n', 'n', 'n', 'n', 'n'])\n",
            "(['some', 'of', 'my', 'kumpel', 'spielen', 'in', 'that', 'division', '.'], ['n', 'n', 'n', 'n', 'n', 'n', 'n', 'n', 'n'])\n",
            "(['i', 'think', 'you', 'are', 'on', 'to', 'etwas', 'hier', '.'], ['n', 'n', 'n', 'n', 'n', 'n', 'n', 'n', 'n'])\n",
            "(['girls', 'should', 'have', 'short', 'hair', 'and', 'boys', 'should', 'have', 'long', 'hair', 'and', 'genderqueer', 'people', 'can', 'do', 'whatever', 'the', 'fick', 'they', 'want', '.'], ['n', 'n', 'n', 'n', 'n', 'n', 'n', 'n', 'n', 'n', 'n', 'n', 'n', 'n', 'n', 'n', 'B-B', 'B', 'B', 'n', 'n', 'n'])\n",
            "(['he', 'never', 'faced', 'oppression', 'for', 'being', 'white', '.'], ['n', 'n', 'n', 'n', 'n', 'n', 'n', 'n'])\n",
            "(['i', 'will', 'call', 'my', 'friends', 'and', 'we', 'geh', 'und', 'fick', 'dich', 'up', 'that', 'nigger', '.'], ['n', 'n', 'n', 'n', 'n', 'n', 'n', 'n', 'n', 'B-B', 'B', 'n', 'n', 'B-B', 'n'])\n",
            "(['super', ',', 'warum', 'machen', 'sich', 'alle', 'über', 'dich', 'lustig', ',', 'wenn', 'du', 'kein', 'queer', 'homosexueller', 'bist', '?'], ['n', 'n', 'n', 'n', 'n', 'n', 'n', 'n', 'n', 'n', 'n', 'n', 'n', 'n', 'n', 'n', 'n'])\n",
            "(['i', 'spoke', 'about', 'my', 'abtreibung', 'on', 'my', 'show', 'tonight', 'because', 'i', 'can', 'not', 'sit', 'idly', 'by', 'while', 'womens', 'rights', 'are', 'stripped', 'away', '.'], ['n', 'n', 'n', 'n', 'n', 'n', 'n', 'n', 'n', 'n', 'n', 'n', 'n', 'n', 'n', 'n', 'n', 'n', 'n', 'n', 'n', 'n', 'n'])\n",
            "(['ein', 'towelhead', 'wäre', 'natürlich', 'nicht', 'beunruhigt', 'alles', 'läuft', 'wie', 'geplant', '.'], ['n', 'B-B', 'n', 'n', 'n', 'n', 'n', 'n', 'n', 'n', 'n'])\n",
            "(['good', 'morning', 'everyone', 'following', 'one', 'of', 'the', 'worst', 'days', 'of', 'my', 'leben', 'i', 'just', 'want', 'to', 'formally', 'apologise', 'for', 'the', 'outrage', 'i', 'caused', '.'], ['n', 'n', 'n', 'n', 'n', 'n', 'n', 'n', 'n', 'n', 'n', 'n', 'n', 'n', 'n', 'n', 'n', 'n', 'n', 'n', 'n', 'n', 'n', 'n'])\n",
            "(['cause', 'i', 'am', 'black', 'i', 'sound', 'like', 'dumb', 'if', 'that', 'ai', 'nt', 'the', 'absolut', 'dümmste', 'shit', 'i', 'have', 'lesen', '.'], ['n', 'n', 'n', 'n', 'n', 'n', 'n', 'B-B', 'n', 'n', 'n', 'n', 'n', 'n', 'B-B', 'B', 'n', 'n', 'n', 'n'])\n",
            "(['für', 'mich', 'sah', 'es', 'wie', 'ein', 'religious', 'aufstand', 'aus', ',', 'außer', 'dass', 'es', 'nicht', 'in', 'einem', 'muslimischen', 'land', 'war', ',', 'wo', 'du', 'freedom', 'of', 'speech', 'hast', 'oder', 'dich', 'versammelst', ',', 'um', 'anderen', 'ihren', 'willen', 'aufzuzwingen', ',', 'es', 'kommt', 'in', 'eine', 'westliche', 'nation', 'in', 'deiner', 'nähe', '.'], ['n', 'n', 'n', 'n', 'n', 'n', 'n', 'n', 'n', 'n', 'n', 'n', 'n', 'n', 'n', 'n', 'n', 'n', 'n', 'n', 'n', 'n', 'n', 'n', 'n', 'n', 'n', 'n', 'n', 'n', 'n', 'n', 'n', 'n', 'n', 'n', 'n', 'n', 'n', 'n', 'n', 'n', 'n', 'n', 'n', 'n'])\n",
            "(['did', 'i', 'just', 'say', 'edition', 'instead', 'of', 'addition', 'i', 'might', 'be', 'a', 'little', 'müde', '.'], ['n', 'n', 'n', 'n', 'n', 'n', 'n', 'n', 'n', 'n', 'n', 'n', 'n', 'n', 'n'])\n",
            "(['remove', 'all', 'muslims', 'and', 'niggers', 'and', 'kikes', 'from', 'the', 'vereinigte', 'staaten', 'of', 'america', 'this', 'is', 'the', 'angemessene', 'antwort', 'to', 'what', 'these', 'animals', 'have', 'been', 'doing', 'to', 'human', 'beings', '.'], ['n', 'n', 'n', 'n', 'B-B', 'n', 'B-B', 'n', 'n', 'n', 'n', 'n', 'n', 'n', 'n', 'n', 'n', 'n', 'n', 'n', 'n', 'n', 'n', 'n', 'n', 'n', 'n', 'n', 'n'])\n",
            "(['it', 'feels', 'so', 'blöd', 'and', 'irrational', 'crying', 'about', 'something', 'i', 'more', 'or', 'less', 'expected', 'would', 'happen', '.'], ['n', 'n', 'n', 'B-B', 'n', 'n', 'n', 'n', 'n', 'n', 'n', 'n', 'n', 'n', 'n', 'n', 'n'])\n",
            "(['wirklich', 'abgesehen', 'vom', 'tunnelbau', ',', 'arabs', 'provided', 'the', 'world', '?'], ['n', 'n', 'n', 'n', 'n', 'n', 'n', 'n', 'n', 'n'])\n",
            "(['real', 'donald', 'trump', 'is', 'a', 'verdammtes', 'child', '.'], ['n', 'n', 'n', 'n', 'n', 'B-B', 'n', 'n'])\n",
            "(['do', 'some', 'verdammtes', 'research', 'before', 'u', 'post', '…', 'keeps', 'u', 'from', 'looking', 'like', 'an', 'ignorant', 'schwachkopf', '.'], ['n', 'n', 'B-B', 'n', 'n', 'n', 'n', 'n', 'n', 'n', 'n', 'n', 'n', 'n', 'B-B', 'B', 'n'])\n",
            "(['you', 'can', 'argue', 'the', 'same', 'for', 'anyone', 'else', 'that', 'been', 'assaulted', 'in', 'a', 'different', 'way', 'if', 'you', 'think', 'all', 'körperverletzungsfälle', 'should', 'not', 'involve', 'monetäre', 'abwicklung', 'that', 'number', 'thing', 'but', 'the', 'point', 'is', 'calling', 'victims', 'of', 'vergewaltigung', 'von', 'prostituierten', 'for', 'abwicklungsgeld', 'is', 'wrong', '.'], ['n', 'n', 'n', 'n', 'n', 'n', 'n', 'n', 'n', 'n', 'n', 'n', 'n', 'n', 'n', 'n', 'n', 'n', 'n', 'n', 'n', 'n', 'n', 'n', 'n', 'n', 'n', 'n', 'n', 'n', 'n', 'n', 'n', 'n', 'n', 'n', 'n', 'n', 'n', 'n', 'n', 'n', 'n'])\n",
            "(['ich', 'will', 'nicht', 'auf', 'twitter', 'sein', ',', 'wenn', 'das', 'urteil', 'für', 'die', 'white', 'bitch', 'bekannt', 'wird', ',', 'die', 'den', 'blacks', 'in', 'seiner', 'eigenen', 'wohnung', 'getötet', 'hat', ',', 'wenn', 'sie', 'nicht', 'wegen', 'mordes', 'schuldig', 'ist', ',', 'kann', 'ich', 'einfach', 'nicht', 'hier', 'sein', '.'], ['n', 'n', 'n', 'n', 'n', 'n', 'n', 'n', 'n', 'n', 'n', 'n', 'n', 'B-B', 'n', 'n', 'n', 'n', 'n', 'n', 'n', 'n', 'n', 'n', 'n', 'n', 'n', 'n', 'n', 'n', 'n', 'n', 'n', 'n', 'n', 'n', 'n', 'n', 'n', 'n', 'n', 'n'])\n",
            "(['i', 'verdammt', 'love', 'you', '.'], ['n', 'B-B', 'n', 'n', 'n'])\n",
            "(['lmao', ',', 'sie', 'hat', 'diesen', 'white', 'ass', 'moaning', '.'], ['n', 'n', 'n', 'n', 'n', 'n', 'B-B', 'n', 'n'])\n",
            "(['von', 'allen', 'frauen', ',', 'die', 'in', 'letzter', 'zeit', 'prominente', 'männer', 'der', 'sexuellen', 'harassment', 'oder', 'rape', 'beschuldigen', ',', 'muss', 'diese', 'frau', 'die', 'bisher', 'mutigste', 'sein', '.'], ['n', 'n', 'n', 'n', 'n', 'n', 'n', 'n', 'n', 'n', 'n', 'n', 'n', 'n', 'n', 'n', 'n', 'n', 'n', 'n', 'n', 'n', 'n', 'n', 'n'])\n",
            "(['nigger', 'schicken', 'zu', 'meinem', 'geburtstag', 'wirklich', 'pakete', 'zu', 'mir', 'nach', 'hause', 'und', 'idek', ',', 'wer', 'sie', 'schickt', '.'], ['B-B', 'n', 'n', 'n', 'n', 'n', 'n', 'n', 'n', 'n', 'n', 'n', 'n', 'n', 'n', 'n', 'n', 'n'])\n",
            "(['the', 'music', 'industry', 'is', 'such', 'a', 'mean', 'ass', 'place', 'and', 'making', 'legitimate', 'freundschaft', 'i', 'm', 'business', 'is', 'easier', 'said', 'als', 'done', '.'], ['n', 'n', 'n', 'n', 'n', 'n', 'n', 'B-B', 'n', 'n', 'n', 'n', 'n', 'n', 'n', 'n', 'n', 'n', 'n', 'n', 'n', 'n'])\n",
            "(['holy', 'verdammte', 'scheiße', 'i', 'am', 'so', 'happy', '.'], ['n', 'B-B', 'B', 'n', 'n', 'n', 'n', 'n'])\n",
            "(['do', 'nt', 'take', 'the', 'card', 'or', 'do', 'nt', 'carry', 'a', 'balance', '.'], ['n', 'n', 'n', 'n', 'n', 'n', 'n', 'n', 'n', 'n', 'n', 'n'])\n",
            "(['men', 'are', 'awful', ',', 'like', ',', 'really', 'awful', '.'], ['n', 'n', 'n', 'n', 'n', 'n', 'n', 'n', 'n'])\n",
            "(['i', 'literally', 'never', 'took', 'the', 'pacer', 'test', 'what', 'is', 'the', 'collective', 'fever', 'dream', 'you', 'all', 'habt', 'is', 'this', 'the', 'mandela', 'affect', 'did', 'i', 'switch', 'timelines', '.'], ['n', 'n', 'n', 'n', 'n', 'n', 'n', 'n', 'n', 'n', 'n', 'n', 'n', 'n', 'n', 'n', 'n', 'n', 'n', 'n', 'n', 'n', 'n', 'n', 'n', 'n'])\n",
            "(['gb', 'turned', 'into', 'an', 'faggoty', 'and', 'muzzie', 'orwellian', 'scheißloch', 'auf', 'lizzie', 'uhr', 'for', 'all', 'these', 'so', 'called', 'nobles', 'they', 'should', 'be', 'dangling', 'from', 'lampposts', '.'], ['n', 'n', 'n', 'n', 'B-B', 'n', 'B-B', 'n', 'B-B', 'n', 'n', 'n', 'n', 'n', 'n', 'n', 'n', 'n', 'n', 'n', 'n', 'n', 'n', 'n', 'n'])\n",
            "(['ich', 'habe', 'keine', 'german', 'schulden', 'lol', '.'], ['n', 'n', 'n', 'n', 'n', 'n', 'n'])\n",
            "(['can', 'not', 'glauben', 'schlampen', 'really', 'be', 'out', 'here', 'watching', 'the', 'absolute', 'pile', 'of', 'trash', '.'], ['n', 'n', 'n', 'B-B', 'n', 'n', 'n', 'n', 'n', 'n', 'n', 'B-B', 'B', 'B', 'n'])\n",
            "(['twitter', 'says', 'i', 'engaged', 'in', 'gezielte', 'belästigung', 'and', 'denied', 'my', 'appeal', 'did', 'not', 'provide', 'the', 'tweet', 'or', 'who', 'i', 'supposedly', 'harassed', '.'], ['n', 'n', 'n', 'n', 'n', 'n', 'n', 'n', 'n', 'n', 'n', 'n', 'n', 'n', 'n', 'n', 'n', 'n', 'n', 'n', 'n', 'n'])\n",
            "(['hahaha', 'and', 'that', 'nigger', 'has', 'someone', 'thinking', 'they', 'should', 'fight', 'for', 'him', 'what', 'a', 'god', '.'], ['n', 'n', 'n', 'B-B', 'n', 'n', 'n', 'n', 'n', 'n', 'n', 'n', 'n', 'n', 'n', 'n'])\n",
            "(['like', 'a', 'kike', 'ya', 'fettschwein', 'the', 'world', 'is', 'full', 'of', 'pieces', 'of', 'shit', 'like', 'you', 'cunt', '.'], ['n', 'n', 'B-B', 'n', 'B-B', 'n', 'n', 'n', 'n', 'n', 'B-B', 'B', 'B', 'n', 'n', 'B-B', 'n'])\n",
            "(['to', 'infinity', 'and', 'beyond', 'my', 'friend', 'no', 'ones', 'ever', 'really', 'gone', 'when', 'they', 'are', 'in', 'our', 'herzen', 'forever', '.'], ['n', 'n', 'n', 'n', 'n', 'n', 'n', 'n', 'n', 'n', 'n', 'n', 'n', 'n', 'n', 'n', 'n', 'n', 'n'])\n",
            "(['georgia', 'will', 'put', 'your', 'arsch', 'in', 'jail', 'if', 'you', 'go', 'out', 'of', 'state', 'for', 'an', 'abtreibung', '.'], ['n', 'n', 'n', 'n', 'B-B', 'n', 'n', 'n', 'n', 'n', 'n', 'n', 'n', 'n', 'n', 'n', 'n'])\n",
            "(['ich', 'fucking', 'hasse', 'es', 'hier', '.'], ['n', 'B-B', 'n', 'n', 'n', 'n'])\n",
            "(['i', 'bet', 'you', 'all', 'better', 'be', 'verdammt', 'playing', 'after', 'i', 'almost', 'died', 'at', 'the', 'wedding', '.'], ['n', 'n', 'n', 'n', 'n', 'n', 'B-B', 'n', 'n', 'n', 'n', 'n', 'n', 'n', 'n', 'n'])\n",
            "(['just', 'another', 'female', 'sandnigger', '.'], ['n', 'n', 'n', 'B-B', 'n'])\n",
            "(['no', 'offense', 'but', 'some', 'of', 'you', 'all', 'are', 'scheiß', 'arsch', 'people', 'and', 'get', 'blessed', 'with', 'someone', 'who', 'will', 'be', 'there', '4', 'you', 'and', 'puts', 'up', 'with', 'your', 'scheiße', '.'], ['n', 'n', 'n', 'n', 'n', 'n', 'n', 'n', 'B-B', 'B', 'n', 'n', 'n', 'n', 'n', 'n', 'n', 'n', 'n', 'n', 'n', 'n', 'n', 'n', 'n', 'n', 'n', 'B-B', 'n'])\n",
            "(['i', 'ask', 'jim', 'how', 'to', 'steal', 'a', 'pop-sockel', 'from', 'target', 'and', 'he', 'told', 'me', 'to', 'get', 'a', 'scooter', 'and', 'act', 'retarded', '.'], ['n', 'n', 'n', 'n', 'n', 'n', 'n', 'n', 'n', 'n', 'n', 'n', 'n', 'n', 'n', 'n', 'n', 'n', 'n', 'n', 'B-B', 'n'])\n",
            "(['i', 'am', 'a', 'hillbilly', '.'], ['n', 'n', 'n', 'B-B', 'n'])\n",
            "(['verpiss', 'dich', ',', 'kike', '.'], ['B-B', 'B', 'n', 'B-B', 'n'])\n",
            "(['oprah', 'is', 'an', 'bejahende', 'handlung', 'of', 'shit', 'fat-ass', 'nigger', 'bitch', '.'], ['n', 'n', 'n', 'n', 'n', 'n', 'B-B', 'B', 'B', 'B', 'n'])\n",
            "(['arabs', 'haben', 'die', 'mathematik', 'nicht', 'erfunden', ',', 'sie', 'haben', 'das', 'konzept', 'der', 'zahl', 'erfunden', 'und', 'seitdem', 'nichts', 'mehr', 'damit', 'gemacht', '.'], ['n', 'n', 'n', 'n', 'n', 'n', 'n', 'n', 'n', 'n', 'n', 'n', 'n', 'n', 'n', 'n', 'n', 'n', 'n', 'n', 'n'])\n",
            "(['wow', 'she', 'comes', 'right', 'out', 'and', 'says', 'the', 'real', 'people', 'oppressed', 'are', 'the', 'weiße', 'männchen', 'in', 'society', 'thanks', 'for', 'posting', 'this', '.'], ['n', 'n', 'n', 'n', 'n', 'n', 'n', 'n', 'n', 'n', 'n', 'n', 'n', 'n', 'n', 'n', 'n', 'n', 'n', 'n', 'n', 'n'])\n",
            "(['vergiss', 'nicht', ',', 'dass', 'wir', 'in', 'new', 'york', 'niemanden', 'mehr', 'als', 'illegal', 'aliens', 'bezeichnen', 'dürfen', '.'], ['n', 'n', 'n', 'n', 'n', 'n', 'n', 'n', 'n', 'n', 'n', 'n', 'n', 'n', 'n', 'n'])\n",
            "(['this', 'scheiße', 'had', 'me', 'dead', 'as', 'fuck', '.'], ['n', 'B-B', 'n', 'n', 'n', 'n', 'B-B', 'n'])\n",
            "(['die', 'gewalt', 'in', 'charlottesville', 'ist', 'aweful', '.'], ['n', 'n', 'n', 'n', 'n', 'n', 'n'])\n",
            "(['lets', 'face', 'it', 'trump', 'is', 'a', 'fettrückstand', '.'], ['n', 'n', 'n', 'n', 'n', 'n', 'B-B', 'n'])\n",
            "(['i', 'want', 'to', 'kommen', 'over', '.'], ['n', 'n', 'n', 'n', 'n', 'n'])\n",
            "(['there', 'should', 'be', 'a', 'policy', 'to', 'tackle', 'the', 'issue', 'of', 'illegale', 'einwanderung', 'irrespective', 'of', 'their', 'religion', '.'], ['n', 'n', 'n', 'n', 'n', 'n', 'n', 'n', 'n', 'n', 'n', 'n', 'n', 'n', 'n', 'n', 'n'])\n",
            "(['if', 'the', 'behörden', 'sagen', 'it', 'was', 'a', 'woman', 'shooter', 'we', 'know', 'for', 'certain', 'that', 'it', 'was', 'schwarz', 'moslem', 'male', '.'], ['n', 'n', 'n', 'n', 'n', 'n', 'n', 'n', 'n', 'n', 'n', 'n', 'n', 'n', 'n', 'n', 'n', 'n', 'n', 'n'])\n",
            "(['not', 'a', 'single', 'arab', 'has', 'ever', 'shot', 'up', 'a', 'school', 'this', 'is', 'nt', 'only', 'rassistisch', 'its', 'blöd', '.'], ['n', 'n', 'n', 'n', 'n', 'n', 'n', 'n', 'n', 'n', 'n', 'n', 'n', 'n', 'n', 'n', 'B-B', 'n'])\n",
            "(['ich', 'würde', 'beat', 'his', 'fucking', 'arsch', 'for', 'talking', 'to', 'me', 'like', 'that', 'honestly', '.'], ['n', 'n', 'n', 'n', 'B-B', 'B', 'n', 'n', 'n', 'n', 'n', 'n', 'n', 'n'])\n",
            "(['my', 'family', 'considered', 'going', 'to', 'toronto', 'in', 'november', 'for', 'a', 'woche', 'langer', 'urlaub', 'but', 'as', 'weiße', 'christen', 'do', 'not', 'feel', 'safe', 'in', 'doing', 'so', 'we', 'might', 'get', 'arrested', 'for', 'our', 'own', 'safety', '.'], ['n', 'n', 'n', 'n', 'n', 'n', 'n', 'n', 'n', 'n', 'n', 'n', 'n', 'n', 'n', 'n', 'n', 'n', 'n', 'n', 'n', 'n', 'n', 'n', 'n', 'n', 'n', 'n', 'n', 'n', 'n', 'n', 'n'])\n",
            "(['some', 'guy', 'was', 'walking', 'around', 'my', 'haus', 'bumsen', 'on', 'the', 'doors', 'including', 'the', 'garagentor', 'yeah', 'retard', 'keep', 'doing', 'that', 'i', 'm', 'so', 'gon', 'na', 'answer', '.'], ['n', 'n', 'n', 'n', 'n', 'n', 'n', 'B-B', 'n', 'n', 'n', 'n', 'n', 'n', 'n', 'B-B', 'n', 'n', 'n', 'n', 'n', 'n', 'n', 'n', 'n', 'n'])\n",
            "(['so', 'the', 'durchschnittliche', 'europäische', 'is', 'welcoming', 'these', 'nigger', 'and', 'vergewaltiger', 'von', 'sandniggern', 'into', 'their', 'cities', 'towns', 'and', 'villages', '.'], ['n', 'n', 'n', 'n', 'n', 'n', 'n', 'B-B', 'n', 'n', 'n', 'B-B', 'n', 'n', 'n', 'n', 'n', 'n', 'n'])\n",
            "(['jeder', 'that', 'uses', 'the', 'term', 'rad', 'in', '2019', 'might', 'brauchen', 'to', 'be', 'medizin', '.'], ['n', 'n', 'n', 'n', 'n', 'n', 'n', 'n', 'n', 'n', 'n', 'n', 'n', 'n'])\n",
            "(['dieser', 'spuckende', 'alte', 'rechte', 'retard', 'hat', 'mich', 'beschuldigt', 'ein', 'subversiver', 'jude', 'zu', 'sein', 'und', 'jetzt', 'behauptet', 'er', 'dass', 'ich', 'es', 'bin', 'sarcuck', 'the', 'fuckwad', 'ich', 'wünschte', 'ich', 'würde', 'mir', 'so', 'etwas', 'ausdenken', 'wo', 'es', 'die', 'weißen', 'schlecht', 'aussehen', 'lasst', 'aber', 'ich', 'bin', 'es', 'nicht', '.'], ['n', 'n', 'n', 'n', 'B-B', 'n', 'n', 'n', 'n', 'n', 'n', 'n', 'n', 'n', 'n', 'n', 'n', 'n', 'n', 'n', 'n', 'B-B', 'B', 'B', 'n', 'n', 'n', 'n', 'n', 'n', 'n', 'n', 'n', 'n', 'n', 'n', 'n', 'n', 'n', 'n', 'n', 'n', 'n', 'n', 'n'])\n",
            "(['i', 'm', 'an', 'arschloch', 'sometimes', 'but', 'man', 'my', 'heart', 'is', 'big', '.'], ['n', 'n', 'n', 'B-B', 'n', 'n', 'n', 'n', 'n', 'n', 'n', 'n'])\n",
            "(['jetzt', 'sind', 'also', 'white', 'male', 'milliardarssöhne', 'eine', 'geschützte', 'klasse', '?'], ['n', 'n', 'n', 'n', 'n', 'n', 'n', 'n', 'n', 'n'])\n",
            "(['haltet', 'euch', 'zurück', ',', 'es', 'gibt', 'einen', 'haufen', 'illegaler', 'immigrants', ',', 'die', 'eine', 'kundgebung', 'abhalten', ',', 'lasst', 'sie', 'bleiben', '.'], ['n', 'n', 'n', 'n', 'n', 'n', 'n', 'n', 'n', 'n', 'n', 'n', 'n', 'n', 'n', 'n', 'n', 'n', 'n', 'n'])\n",
            "(['we', 'are', 'going', 'to', 'kill', 'jews', 'unequivocally', 'and', 'force', 'them', 'breed', 'with', 'niggers', 'and', 'sandnigger', 'and', 'spics', '.'], ['n', 'n', 'n', 'n', 'n', 'n', 'n', 'n', 'n', 'n', 'n', 'n', 'B-B', 'n', 'B-B', 'n', 'B-B', 'n'])\n",
            "(['go', 'live', 'in', 'iran', 'schlampe', '.'], ['n', 'n', 'n', 'n', 'B-B', 'n'])\n",
            "(['justin', 'trudeau', 'ist', 'ein', 'retarded', 'asshole', '.'], ['n', 'n', 'n', 'n', 'B-B', 'B', 'n'])\n",
            "(['a', 'negro-honig-falle', '.'], ['n', 'B-B', 'n'])\n",
            "(['if', 'i', 'can', 'not', 'pick', 'you', 'up', 'i', 'can', 'not', 'fick', 'with', 'you', '.'], ['n', 'n', 'n', 'n', 'n', 'n', 'n', 'n', 'n', 'n', 'B-B', 'n', 'n', 'n'])\n",
            "(['i', 'wish', 'that', 'i', 'felt', 'that', 'way', 'you', 'are', 'a', 'better', 'person', 'i', 'am', 'so', 'angry', 'that', 'he', 'is', 'in', 'that', 'historischen', 'ort', 'and', 'what', 'it', 'means', 'to', 'die', 'meisten', 'amerikaner', 'i', 'will', 'i', 'can', 'think', 'of', 'is', 'weißer', 'abfall', 'does', 'not', 'belong', 'there', '.'], ['n', 'n', 'n', 'n', 'n', 'n', 'n', 'n', 'n', 'n', 'n', 'n', 'n', 'n', 'n', 'n', 'n', 'n', 'n', 'n', 'n', 'n', 'n', 'n', 'n', 'n', 'n', 'n', 'n', 'n', 'n', 'n', 'n', 'n', 'n', 'n', 'n', 'n', 'B-B', 'B', 'n', 'n', 'n', 'n', 'n'])\n",
            "(['its', 'really', 'crazy', 'how', 'some', 'of', 'you', 'all', 'will', 'have', 'a', 'person', 'that', 'is', 'such', 'a', 'blessing', 'to', 'you', 'but', 'you', 'still', 'fick', 'them', 'over', '.'], ['n', 'n', 'n', 'n', 'n', 'n', 'n', 'n', 'n', 'n', 'n', 'n', 'n', 'n', 'n', 'n', 'n', 'n', 'n', 'n', 'n', 'n', 'B-B', 'n', 'B', 'n'])\n",
            "(['die', 'endgültige', 'lösung', 'für', 'die', 'queers', 'und', 'die', 'coons', 'und', 'die', 'reds', 'und', 'die', 'jews', '.'], ['n', 'n', 'n', 'n', 'n', 'n', 'n', 'n', 'B-B', 'n', 'n', 'n', 'n', 'n', 'n', 'n'])\n",
            "(['ich', 'bin', 'a', 'retard', '.'], ['n', 'n', 'n', 'B-B', 'n'])\n",
            "(['the', 'konservative', 'first', 'lady', 'can', 'not', 'be', 'a', 'slut', 'if', 'she', 'has', 'never', 'had', 'sex', 'btw', '.'], ['n', 'n', 'n', 'n', 'n', 'n', 'n', 'n', 'B-B', 'n', 'n', 'n', 'n', 'n', 'n', 'n', 'n'])\n",
            "(['ich', 'habe', 'es', 'aufgegeben', ',', 'meine', 'rechtschreibung', 'zu', 'korrigieren', ',', 'das', 'gibt', 'retarded', 'liberalen', 'etwas', 'zu', 'weinen', '.'], ['n', 'n', 'n', 'n', 'n', 'n', 'n', 'n', 'n', 'n', 'n', 'n', 'B-B', 'n', 'n', 'n', 'n', 'n'])\n",
            "(['wenn', 'diese', 'ghettoabschaum-gangsta-pussies', 'so', 'knallhart', 'sind', ',', 'warum', 'tun', 'sie', 'sich', 'dann', 'fast', 'immer', 'in', 'gruppen', 'von', 'mehreren', 'personen', 'zusammen', ',', 'um', 'eine', 'einzelne', 'weiße', 'person', 'anzugreifen', '?'], ['n', 'n', 'B-B', 'n', 'n', 'n', 'n', 'n', 'n', 'n', 'n', 'n', 'n', 'n', 'n', 'n', 'n', 'n', 'n', 'n', 'n', 'n', 'n', 'n', 'n', 'n', 'n', 'n'])\n",
            "(['diese', 'weißen', 'in', 'deiner', 'kopfzeile', 'do', 'nt', 'give', 'a', 'verdammt', 'about', 'you', 'continue', 'to', 'kiss', 'their', 'arsch', '.'], ['n', 'n', 'n', 'n', 'n', 'n', 'n', 'n', 'n', 'B-B', 'n', 'n', 'n', 'n', 'n', 'n', 'B-B', 'n'])\n",
            "(['lol', 'tell', 'ur', 'enkel', 'i', 'said', 'hi', 'faggot', '.'], ['n', 'n', 'n', 'n', 'n', 'n', 'n', 'B-B', 'n'])\n",
            "(['fick', 'red', 'vines', '.'], ['B-B', 'n', 'n', 'n'])\n",
            "(['i', 'am', 'offended', 'because', 'nigger', ',', 'faggot', ',', 'kike', 'würstchen', '(', 'spic', ',', 'chink', ')', 'gook', 'cracker', '.'], ['n', 'n', 'n', 'n', 'B-B', 'n', 'B-B', 'n', 'B-B', 'B-B', 'n', 'B-B', 'n', 'B-B', 'n', 'B-B', 'n', 'n'])\n",
            "(['oh', 'girl', 'you', 'done', 'and', 'and', 'went', 'all', 'voller', 'rückstand', 'and', 'shit', '.'], ['n', 'n', 'n', 'n', 'n', 'n', 'n', 'n', 'n', 'n', 'n', 'B-B', 'n'])\n",
            "(['i', 'do', 'not', 'wanna', 'be', 'on', 'twitter', 'when', 'the', 'verdict', 'for', 'the', 'woman', 'who', 'killed', 'the', 'schwarzer', 'mann', 'in', 'his', 'eigene', 'wohnung', 'is', 'announced', 'if', 'it', 'not', 'guilty', 'on', 'mordanklage', 'i', 'just', 'can', 'not', 'be', 'on', 'here', '.'], ['n', 'n', 'n', 'n', 'n', 'n', 'n', 'n', 'n', 'n', 'n', 'n', 'n', 'n', 'n', 'n', 'n', 'n', 'n', 'n', 'n', 'n', 'n', 'n', 'n', 'n', 'n', 'n', 'n', 'n', 'n', 'n', 'n', 'n', 'n', 'n', 'n', 'n'])\n",
            "(['fick', 'yes', 'read', 'this', 'thread', '.'], ['B-B', 'n', 'n', 'n', 'n', 'n'])\n",
            "(['he', 'is', 'a', 'goddamn', 'lügner', '.'], ['n', 'n', 'n', 'B-B', 'n', 'n'])\n",
            "(['i', 'mean', 'multiple', 'frauen', 'vergewaltigt', 'and', 'assaulted', 'just', 'is', 'not', 'enough', 'to', 'give', 'up', 'power', '.'], ['n', 'n', 'n', 'n', 'n', 'n', 'n', 'n', 'n', 'n', 'n', 'n', 'n', 'n', 'n', 'n'])\n",
            "(['only', 'america', 'would', 'shut', 'down', 'the', 'whole', 'ass', 'government', 'over', 'a', 'verdammte', 'wand', 'you', 'all', 'president', 'retarded', '.'], ['n', 'n', 'n', 'n', 'n', 'n', 'n', 'B-B', 'n', 'n', 'n', 'B-B', 'n', 'n', 'n', 'n', 'B-B', 'n'])\n",
            "(['ich', 'weiß', 'nicht', ',', 'was', 'ich', 'tun', 'soll', '.', 'moms', 'a', 'whore', '.'], ['n', 'n', 'n', 'n', 'n', 'n', 'n', 'n', 'n', 'n', 'n', 'B-B', 'n'])\n",
            "(['is', 'it', 'wrong', 'that', 'ich', 'würde', 'ziemlich', 'anständig', 'bezahlen', 'money', 'to', 'see', 'him', 'being', 'bitten', 'by', 'a', 'labrador', '.'], ['n', 'n', 'n', 'n', 'n', 'n', 'n', 'n', 'n', 'n', 'n', 'n', 'n', 'n', 'n', 'n', 'n', 'n', 'n'])\n",
            "(['made', 'a', 'joke', 'to', 'my', 'girlfriend', 'about', 'stealing', 'ausgefallener', 'schmuck', 'for', 'my', 'wife', '.'], ['n', 'n', 'n', 'n', 'n', 'n', 'n', 'n', 'n', 'n', 'n', 'n', 'n', 'n'])\n",
            "(['the', 'unbestreitbare', 'tatsache', 'is', 'that', 'the', 'majority', 'of', 'the', 'illegale', 'einwanderer', 'in', 'india', 'are', 'muslim', '.'], ['n', 'n', 'n', 'n', 'n', 'n', 'n', 'n', 'n', 'n', 'n', 'n', 'n', 'n', 'n', 'n'])\n",
            "(['i', 'like', 'how', 'they', 'have', 'to', 'specifically', 'say', 'non', 'hispanic', 'in', 'weiße', 'kategorien', 'on', 'graphs', 'because', 'the', 'kikes', 'will', 'lump', 'anyone', 'in', 'with', 'us', 'to', 'make', 'our', 'numbers', 'worse', '.'], ['n', 'n', 'n', 'n', 'n', 'n', 'n', 'n', 'n', 'n', 'n', 'n', 'n', 'n', 'n', 'n', 'n', 'B-B', 'n', 'n', 'n', 'n', 'n', 'n', 'n', 'n', 'n', 'n', 'n', 'n'])\n",
            "(['nun', ',', 'du', 'bist', 'white', 'trash', 'so', 'fuck', 'off', '.'], ['n', 'n', 'n', 'n', 'B-B', 'B', 'n', 'B-B', 'B', 'n'])\n",
            "(['everyone', 'wow', 'you', 'are', 'so', 'nice', 'i', 'thought', 'you', 'were', 'gon', 'na', 'be', 'a', 'schlampe', '.'], ['n', 'n', 'n', 'n', 'n', 'n', 'n', 'n', 'n', 'n', 'n', 'n', 'n', 'n', 'B-B', 'n'])\n",
            "(['these', 'böse', 'verrückt', 'dumm', 'lügen', 'weiß', 'schlampen', 'have', 'obviously', 'fucked', 'up', 'my', 'mother', 'and', 'geist', 'der', 'schwestern', 'with', 'their', 'drugs', 'and', 'lies', '.'], ['n', 'n', 'n', 'B-B', 'n', 'n', 'B-B', 'n', 'n', 'B-B', 'B', 'n', 'n', 'n', 'n', 'n', 'n', 'n', 'n', 'n', 'n', 'n', 'n'])\n",
            "(['wie', 'viele', 'nigger', 'haben', 'autismus', 'ich', 'würde', 'sagen', ',', 'wie', 'viele', 'weiße', 'weibliche', 'kinder', 'autism', 'haben', '.'], ['n', 'n', 'B-B', 'n', 'n', 'n', 'n', 'n', 'n', 'n', 'n', 'n', 'n', 'n', 'n', 'n', 'n'])\n",
            "(['would', 'love', 'to', 'see', 'libtards', 'get', 'in', 'this', 'new', 'social-media-arena', 'so', 'they', 'can', 'actually', 'handle', 'wahrheitsgemäße', 'spottbeleidigungen', 'without', 'getting', 'their', 'schwuchtel', 'höschen', 'verdreht', 'and', 'bemerkungen', 'zur', 'berichterstattung', 'like', 'the', 'sacklose', 'hündinnen', 'they', 'are', '.'], ['n', 'n', 'n', 'n', 'B-B', 'n', 'n', 'n', 'n', 'n', 'n', 'n', 'n', 'n', 'n', 'n', 'n', 'n', 'n', 'n', 'B-B', 'B', 'n', 'n', 'n', 'n', 'n', 'n', 'n', 'B-B', 'B', 'n', 'n', 'n'])\n",
            "(['either', 'failed', 'in', 'english', 'or', 'a', 'faggot', 'on', 'these', 'straßen', '.'], ['n', 'n', 'n', 'n', 'n', 'n', 'B-B', 'n', 'n', 'n', 'n'])\n",
            "(['unlike', 'some', 'erwachsene', 'they', 'do', 'nt', 'still', 'erwarten', 'their', 'mammy', 'to', 'clear', 'up', 'after', 'them', '.'], ['n', 'n', 'n', 'n', 'n', 'n', 'n', 'n', 'n', 'n', 'n', 'n', 'n', 'n', 'n', 'n'])\n",
            "(['because', 'you', 'are', 'muslim', 'and', 'pakistan', 'is', 'a', 'moslemisches', 'land', '.'], ['n', 'n', 'n', 'n', 'n', 'n', 'n', 'n', 'n', 'n', 'n'])\n",
            "(['i', 'was', 'just', 'talking', 'about', 'this', 'scheiße', '.'], ['n', 'n', 'n', 'n', 'n', 'n', 'B-B', 'n'])\n",
            "(['they', 'must', 'have', 'planted', 'a', 'gehirn', 'der', 'weißen', 'person', 'in', 'her', '.'], ['n', 'n', 'n', 'n', 'n', 'n', 'n', 'n', 'n', 'n', 'n', 'n'])\n",
            "(['this', 'is', 'such', 'an', 'accurate', 'aussage', 'you', 'are', 'the', 'most', 'loyal', 'queen', '.'], ['n', 'n', 'n', 'n', 'n', 'n', 'n', 'n', 'n', 'n', 'n', 'n', 'n'])\n",
            "(['nein', 'shit', 'ist', 'nicht', 'dieser', 'sandnigger', 'i', 'm', 'gefängnis', '.'], ['n', 'B-B', 'n', 'n', 'n', 'B-B', 'n', 'n', 'n', 'n'])\n",
            "(['kann', 'mir', 'niemand', 'sagen', ',', 'dass', 'ich', 'kein', 'guter', 'nigger', 'bin', ',', 'honestly', 'gesagt', ',', 'ich', 'bin', 'wahrscheinlich', 'zu', 'gut', '.'], ['n', 'n', 'n', 'n', 'n', 'n', 'n', 'n', 'n', 'B-B', 'n', 'n', 'n', 'n', 'n', 'n', 'n', 'n', 'n', 'n', 'n'])\n",
            "(['i', 'just', 'got', 'the', 'most', 'verzögerter', 'schnitt', 'in', 'my', 'life', '.'], ['n', 'n', 'n', 'n', 'n', 'n', 'n', 'n', 'n', 'n', 'n'])\n",
            "(['ich', 'habe', 'gerade', 'gesehen', ',', 'wie', 'meine', 'beiden', 'lehrer', 'der', '4', '.', 'klasse', 'retarded', 'assholes', 'sind', '.'], ['n', 'n', 'n', 'n', 'n', 'n', 'n', 'n', 'n', 'n', 'n', 'n', 'n', 'B-B', 'B', 'n', 'n'])\n",
            "(['as', 'if', 'only', 'essen', 'muschi', 'is', 'what', 'makes', 'someone', 'a', 'lesbian', '.'], ['n', 'n', 'n', 'B-B', 'B', 'n', 'n', 'n', 'n', 'n', 'n', 'n'])\n",
            "(['well', 'this', 'gives', 'more', 'credence', 'to', 'the', 'hypothesis', 'that', 'zionism', 'is', 'behind', 'the', 'muslimische', 'invasion', 'to', 'stärke', 'hinzufügen', 'and', 'credence', 'to', 'zionsim', 'and', 'israel', 'expansionism', '.'], ['n', 'n', 'n', 'n', 'n', 'n', 'n', 'n', 'n', 'n', 'n', 'n', 'n', 'n', 'n', 'n', 'n', 'n', 'n', 'n', 'n', 'n', 'n', 'n', 'n', 'n'])\n",
            "(['i', 'can', 'not', 'get', 'the', '14', 'days', 'free', 'trial', 'bitte', 'fix', 'i', 'do', 'nt', 'have', 'money', 'for', 'ps', 'plus', 'i', 'need', 'this', '.'], ['n', 'n', 'n', 'n', 'n', 'n', 'n', 'n', 'n', 'n', 'n', 'n', 'n', 'n', 'n', 'n', 'n', 'n', 'n', 'n', 'n', 'n', 'n'])\n",
            "(['if', 'you', 'are', 'a', 'schlampe', 'for', 'iced', 'coffee', 'and', 'saving', 'the', 'environment', 'like', 'me', 'starbucks', 'is', 'selling', 'a', 'reusable', 'color', 'changing', 'cup', '.'], ['n', 'n', 'n', 'n', 'B-B', 'n', 'n', 'n', 'n', 'n', 'n', 'n', 'n', 'n', 'n', 'n', 'n', 'n', 'n', 'n', 'n', 'n', 'n'])\n",
            "(['i', 'do', 'nt', 'care', 'i', 'am', 'müde', 'of', 'people', 'acting', 'like', 'america', 'is', 'some', 'kind', 'of', 'holy', 'place', 'and', 'it', 'should', 'be', 'all', 'artists', 'groups', 'biggest', 'goal', '.'], ['n', 'n', 'n', 'n', 'n', 'n', 'n', 'n', 'n', 'n', 'n', 'n', 'n', 'n', 'n', 'n', 'n', 'n', 'n', 'n', 'n', 'n', 'n', 'n', 'n', 'n', 'n', 'n'])\n",
            "(['if', 'a', 'neger', 'switch', 'up', 'that', 'to', 'me', 'is', 'hure', 'scheiße', 'just', 'do', 'what', 'right', 'by', 'your', 'child', 'even', 'if', 'you', 'do', 'nt', 'feel', '.'], ['n', 'n', 'B-B', 'n', 'n', 'n', 'n', 'n', 'n', 'B-B', 'B-B', 'n', 'n', 'n', 'n', 'n', 'n', 'n', 'n', 'n', 'n', 'n', 'n', 'n', 'n'])\n",
            "(['you', 'are', 'very', 'hübsch', '.'], ['n', 'n', 'n', 'n', 'n'])\n",
            "(['die', 'feminist', 'bewegung', 'hat', 'einiges', 'über', 'die', 'islamification', 'des', 'westens', 'zu', 'sagen', ',', 'zum', 'beispiel', 'wie', 'sehr', 'sie', 'den', 'islam', 'lieben', 'und', 'wie', 'großartig', 'er', 'für', 'sie', 'ist', '.'], ['n', 'n', 'n', 'n', 'n', 'n', 'n', 'n', 'n', 'n', 'n', 'n', 'n', 'n', 'n', 'n', 'n', 'n', 'n', 'n', 'n', 'n', 'n', 'n', 'n', 'n', 'n', 'n', 'n'])\n",
            "(['can', 'this', 'lehrer-ton', 'even', 'more', 'ghetto', 'and', 'dumb', 'then', 'she', 'is', '.'], ['n', 'n', 'n', 'n', 'n', 'n', 'n', 'B-B', 'n', 'n', 'n', 'n'])\n",
            "(['trudeau', 'ist', 'eine', 'muzzie', 'loving', 'faggot', ',', 'er', 'liebt', 'die', 'goathumpers', 'auf', 'kosten', 'der', 'kanadier', ',', 'doch', 'die', 'kanadier', 'haben', 'ihn', 'gewählt', ',', 'was', 'mit', 'kanada', 'nicht', 'stimmt', '.'], ['n', 'n', 'n', 'B-B', 'n', 'B-B', 'n', 'n', 'n', 'n', 'B-B', 'n', 'n', 'n', 'n', 'n', 'n', 'n', 'n', 'n', 'n', 'n', 'n', 'n', 'n', 'n', 'n', 'n', 'n'])\n",
            "(['maximum', 'inclusivity', 'we', 'are', 'all', 'weiße', 'oberhäupter', 'now', '.'], ['n', 'n', 'n', 'n', 'n', 'n', 'n', 'n', 'n'])\n",
            "(['i', 'asked', 'mutter', 'for', 'a', 'lift', 'to', 'the', 'station', 'in', 'the', 'morning', 'and', 'she', 'basically', 'told', 'me', 'to', 'verpiss', 'dich', 'und', 'hahaha', '.'], ['n', 'n', 'n', 'n', 'n', 'n', 'n', 'n', 'n', 'n', 'n', 'n', 'n', 'n', 'n', 'n', 'n', 'n', 'B-B', 'B', 'n', 'n', 'n'])\n",
            "(['so', 'muslimes', 'think', 'they', 'can', 'menschen', 'töten', 'who', 'do', 'not', 'live', 'like', 'them', 'and', 'you', 'want', 'to', 'tolerate', 'that', 'you', 'must', 'be', 'a', 'liberal', 'and', 'a', 'verdammter', 'schwachkopf', 'who', 'will', 'soon', 'be', 'dead', '.'], ['n', 'n', 'n', 'n', 'n', 'n', 'n', 'n', 'n', 'n', 'n', 'n', 'n', 'n', 'n', 'n', 'n', 'n', 'n', 'n', 'n', 'n', 'n', 'n', 'n', 'n', 'B-B', 'B', 'n', 'n', 'n', 'n', 'n', 'n'])\n",
            "(['i', 'can', 'not', 'reply', 'to', 'such', 'a', 'dumme', 'nachricht', 'to', 'be', 'honest', '.'], ['n', 'n', 'n', 'n', 'n', 'n', 'n', 'B-B', 'n', 'n', 'n', 'n', 'n'])\n",
            "(['i', 'was', 'informed', 'by', 'the', 'universelle', 'grundsätze', 'of', 'the', 'declaration', '.'], ['n', 'n', 'n', 'n', 'n', 'n', 'n', 'n', 'n', 'n', 'n'])\n",
            "(['england', 'frauen', 'scoring', 'in', 'the', 'last', 'minute', 'of', 'that', 'netball-wettbewerb', 'to', 'win', 'gold', 'is', 'the', 'greatest', 'sportliche', 'momente', 'in', 'history', '.'], ['n', 'n', 'n', 'n', 'n', 'n', 'n', 'n', 'n', 'n', 'n', 'n', 'n', 'n', 'n', 'n', 'n', 'n', 'n', 'n', 'n'])\n",
            "(['schüttelnder', 'arsch', 'is', 'considered', 'goofy', 'now', '.'], ['n', 'B-B', 'n', 'n', 'n', 'n', 'n'])\n",
            "(['hell', 'no', 'you', 'used', 'amerikaner', 'steuerzahler', 'geld', 'on', 'illegale', 'einwanderer', 'and', 'now', 'you', 'want', 'to', 'claim', 'a', 'state', 'of', 'emergency', '.'], ['n', 'n', 'n', 'n', 'n', 'n', 'n', 'n', 'n', 'n', 'n', 'n', 'n', 'n', 'n', 'n', 'n', 'n', 'n', 'n', 'n'])\n"
          ]
        }
      ],
      "source": [
        "csv_file_path = 'Labeled_dataset_ocd.csv'\n",
        "\n",
        "sentences = {}\n",
        "with open(csv_file_path, 'r') as file:\n",
        "    csv_reader = csv.reader(file)\n",
        "    next(csv_reader)  # Skip the header row\n",
        "    for row in csv_reader:\n",
        "        sentence_id, token, label = row\n",
        "        if sentence_id not in sentences:\n",
        "            sentences[sentence_id] = {'tokens': [], 'labels': []}\n",
        "        sentences[sentence_id]['tokens'].append(token)\n",
        "        sentences[sentence_id]['labels'].append(label)\n",
        "\n",
        "result = []\n",
        "for sentence_id, data in sentences.items():\n",
        "    words = data['tokens']\n",
        "    labels = data['labels']\n",
        "    result.append((words, labels))\n",
        "\n",
        "for sentence in result:\n",
        "    print(sentence)"
      ]
    },
    {
      "cell_type": "code",
      "execution_count": 630,
      "metadata": {
        "colab": {
          "base_uri": "https://localhost:8080/"
        },
        "id": "dtIlZaumW2wL",
        "outputId": "de37a693-8b11-427d-dd07-3c1b55f91709"
      },
      "outputs": [
        {
          "name": "stdout",
          "output_type": "stream",
          "text": [
            "OCD set length: 250\n"
          ]
        }
      ],
      "source": [
        "data = result\n",
        "print(f\"OCD set length: {len(data)}\")"
      ]
    },
    {
      "cell_type": "code",
      "execution_count": 631,
      "metadata": {
        "colab": {
          "base_uri": "https://localhost:8080/"
        },
        "id": "vkTlUMZZ57_g",
        "outputId": "79373e00-8547-4407-fc5f-9cf1281cdea4"
      },
      "outputs": [
        {
          "name": "stdout",
          "output_type": "stream",
          "text": [
            "Training set length: 200\n",
            "Validation set length: 25\n",
            "Test set length: 25\n"
          ]
        }
      ],
      "source": [
        "train_data, test_data = train_test_split(result, test_size=0.2, random_state=42)\n",
        "\n",
        "val_data, test_data = train_test_split(test_data, test_size=0.5, random_state=42)\n",
        "\n",
        "print(f\"Training set length: {len(train_data)}\")\n",
        "print(f\"Validation set length: {len(val_data)}\")\n",
        "print(f\"Test set length: {len(test_data)}\")"
      ]
    },
    {
      "cell_type": "code",
      "execution_count": 632,
      "metadata": {
        "colab": {
          "base_uri": "https://localhost:8080/"
        },
        "id": "zeC0Zdh2J1sv",
        "outputId": "85da37cc-a43d-48fb-deba-9c411fe5a489"
      },
      "outputs": [
        {
          "name": "stdout",
          "output_type": "stream",
          "text": [
            "           terms\n",
            "0        fucking\n",
            "1         faggot\n",
            "2           blöd\n",
            "3       verdammt\n",
            "4   stuhlscheiße\n",
            "5       retarded\n",
            "6         fucked\n",
            "7         ficken\n",
            "8          arsch\n",
            "9     verdammtes\n",
            "10          dumm\n",
            "11      schlampe\n",
            "12        nigger\n",
            "13    sandnigger\n",
            "14         kikes\n",
            "15            up\n",
            "16   sandniggern\n",
            "17     schlampen\n"
          ]
        }
      ],
      "source": [
        "gold_set_for_validation = set(word for (words, labels) in val_data for word, label in zip(words, labels) if label == 'B-B' or label == 'B')\n",
        "\n",
        "df_gold_val = pd.DataFrame({'terms': list(gold_set_for_validation)})\n",
        "print(df_gold_val)"
      ]
    },
    {
      "cell_type": "code",
      "execution_count": 633,
      "metadata": {
        "colab": {
          "base_uri": "https://localhost:8080/"
        },
        "id": "h6nUczPi6E9Z",
        "outputId": "2f98eb72-1cab-43f0-cadb-43a466b71d6a"
      },
      "outputs": [
        {
          "name": "stdout",
          "output_type": "stream",
          "text": [
            "                             terms\n",
            "0                       verdammter\n",
            "1                          niggers\n",
            "2                             fick\n",
            "3                            bitch\n",
            "4                         verdammt\n",
            "5                          verpiss\n",
            "6   ghettoabschaum-gangsta-pussies\n",
            "7                             dumm\n",
            "8                           hündin\n",
            "9                      sandniggern\n",
            "10                         faggots\n",
            "11                       verdammte\n",
            "12                            dich\n",
            "13                            dumb\n",
            "14                           coons\n",
            "15                            over\n",
            "16                   fettrückstand\n",
            "17                          nigger\n",
            "18                     schwuchteln\n",
            "19                       niggersau\n"
          ]
        }
      ],
      "source": [
        "gold_set_for_test = set(word for (words, labels) in test_data for word, label in zip(words, labels) if label == 'B-B' or label == 'B')\n",
        "\n",
        "df_gold_test = pd.DataFrame({'terms': list(gold_set_for_test)})\n",
        "print(df_gold_test)"
      ]
    },
    {
      "cell_type": "code",
      "execution_count": 634,
      "metadata": {
        "id": "XzZEcgoo6IoS"
      },
      "outputs": [],
      "source": [
        "train_tags=[tup[1] for tup in train_data]\n",
        "train_texts=[tup[0] for tup in train_data]\n",
        "\n",
        "val_tags=[tup[1] for tup in val_data]\n",
        "val_texts=[tup[0] for tup in val_data]\n",
        "\n",
        "test_tags=[tup[1] for tup in test_data]\n",
        "test_texts=[tup[0] for tup in test_data]"
      ]
    },
    {
      "cell_type": "code",
      "execution_count": 635,
      "metadata": {
        "id": "T1cN-XRr6L-7"
      },
      "outputs": [],
      "source": [
        "tokenizer = XLMRobertaTokenizerFast.from_pretrained(\"xlm-roberta-base\")"
      ]
    },
    {
      "cell_type": "code",
      "execution_count": 636,
      "metadata": {
        "id": "YTXbexTd6T5x"
      },
      "outputs": [],
      "source": [
        "label_list=[\"n\", \"B-B\", \"B\"]\n",
        "label_to_id = {l: i for i, l in enumerate(label_list)}\n",
        "num_labels=len(label_list)\n",
        "\n",
        "def tokenize_and_align_labels(texts, tags):\n",
        "  tokenized_inputs = tokenizer(\n",
        "      texts,\n",
        "      padding=True,\n",
        "      truncation=True,\n",
        "      is_split_into_words=True,\n",
        "  )\n",
        "  labels = []\n",
        "  for i, label in enumerate(tags):\n",
        "      word_ids = tokenized_inputs.word_ids(batch_index=i)\n",
        "      previous_word_idx = None\n",
        "      label_ids = []\n",
        "      for word_idx in word_ids:\n",
        "          if word_idx is None:\n",
        "              label_ids.append(-100)\n",
        "          elif word_idx != previous_word_idx:\n",
        "              label_ids.append(label_to_id[label[word_idx]])\n",
        "          else:\n",
        "              label_ids.append(-100)\n",
        "          previous_word_idx = word_idx\n",
        "\n",
        "      labels.append(label_ids)\n",
        "  tokenized_inputs[\"labels\"] = labels\n",
        "  return tokenized_inputs\n",
        "\n",
        "train_input_and_labels = tokenize_and_align_labels(train_texts, train_tags)\n",
        "\n",
        "val_input_and_labels = tokenize_and_align_labels(val_texts, val_tags)\n",
        "\n",
        "test_input_and_labels = tokenize_and_align_labels(test_texts, test_tags)"
      ]
    },
    {
      "cell_type": "code",
      "execution_count": 637,
      "metadata": {
        "id": "N0l6gfmZ6mTE"
      },
      "outputs": [],
      "source": [
        "class Dataset(torch.utils.data.Dataset):\n",
        "    def __init__(self, encodings, labels):\n",
        "        self.encodings = encodings\n",
        "        self.labels = labels\n",
        "\n",
        "    def __getitem__(self, idx):\n",
        "        item = {key: torch.tensor(val[idx]) for key, val in self.encodings.items()}\n",
        "        item['labels'] = torch.tensor(self.labels[idx])\n",
        "        return item\n",
        "\n",
        "    def __len__(self):\n",
        "        return len(self.labels)\n",
        "\n",
        "train_dataset = Dataset(train_input_and_labels, train_input_and_labels[\"labels\"])\n",
        "\n",
        "val_dataset = Dataset(val_input_and_labels, val_input_and_labels[\"labels\"])\n",
        "\n",
        "test_dataset = Dataset(test_input_and_labels, test_input_and_labels[\"labels\"])"
      ]
    },
    {
      "cell_type": "code",
      "execution_count": 638,
      "metadata": {
        "id": "GaIb-M396uCA"
      },
      "outputs": [],
      "source": [
        "def extract_terms(token_predictions, val_texts):\n",
        "  extracted_terms = set()\n",
        "  for i in range(len(token_predictions)):\n",
        "    pred = token_predictions[i]\n",
        "    txt  = val_texts[i]\n",
        "    for j in range(len(pred)):\n",
        "      if pred[j]==\"B-B\":\n",
        "        term=txt[j]\n",
        "        for k in range(j+1,len(pred)):\n",
        "          if pred[k]==\"B\": term+=\" \"+txt[k]\n",
        "          else: break\n",
        "        extracted_terms.add(term)\n",
        "  return extracted_terms"
      ]
    },
    {
      "cell_type": "code",
      "execution_count": 639,
      "metadata": {
        "id": "Aam7I5-i62dx"
      },
      "outputs": [],
      "source": [
        "def compute_metrics_eval(p):\n",
        "    predictions, labels = p\n",
        "    predictions = np.argmax(predictions, axis=2)\n",
        "\n",
        "    true_predictions = [\n",
        "        [label_list[p] for (p, l) in zip(prediction, label) if l != -100]\n",
        "        for prediction, label in zip(predictions, labels)\n",
        "    ]\n",
        "\n",
        "    extracted_terms=extract_terms(true_predictions, val_texts)\n",
        "    extracted_terms = set([item.lower() for item in extracted_terms])\n",
        "    gold_set=gold_set_for_validation\n",
        "\n",
        "    true_pos=extracted_terms.intersection(gold_set)\n",
        "    recall=len(true_pos)/len(gold_set)\n",
        "    precision=len(true_pos)/len(extracted_terms)\n",
        "\n",
        "    return {\n",
        "        \"precision\": precision,\n",
        "        \"recall\": recall,\n",
        "        \"f1\": 2*(precision*recall)/(precision+recall),\n",
        "    }"
      ]
    },
    {
      "cell_type": "markdown",
      "metadata": {
        "id": "BREdaz7Xcb1e"
      },
      "source": [
        "## FINE-TUNING"
      ]
    },
    {
      "cell_type": "code",
      "execution_count": 585,
      "metadata": {
        "id": "R3t8wiOb7E7h"
      },
      "outputs": [],
      "source": [
        "training_args = TrainingArguments(\n",
        "    output_dir='./results',\n",
        "    num_train_epochs=14,\n",
        "    per_device_train_batch_size=8,\n",
        "    per_device_eval_batch_size=8,\n",
        "    warmup_steps=0,\n",
        "    weight_decay=0.0009255754769953695,\n",
        "    learning_rate=2.121035136134197e-05,\n",
        "    logging_dir='./logs',\n",
        "    eval_strategy= \"steps\",\n",
        "    eval_steps=100,\n",
        "    save_steps=100,\n",
        "    save_total_limit=1,\n",
        "    load_best_model_at_end=True,\n",
        "    metric_for_best_model=\"f1\",\n",
        "    greater_is_better=True\n",
        ")"
      ]
    },
    {
      "cell_type": "code",
      "execution_count": 586,
      "metadata": {
        "colab": {
          "base_uri": "https://localhost:8080/"
        },
        "id": "bP1u69gb7HsA",
        "outputId": "ca136429-a78e-42d1-f8fd-37a9962f474a"
      },
      "outputs": [
        {
          "name": "stderr",
          "output_type": "stream",
          "text": [
            "Some weights of XLMRobertaForTokenClassification were not initialized from the model checkpoint at xlm-roberta-base and are newly initialized: ['classifier.bias', 'classifier.weight']\n",
            "You should probably TRAIN this model on a down-stream task to be able to use it for predictions and inference.\n"
          ]
        }
      ],
      "source": [
        "model = XLMRobertaForTokenClassification.from_pretrained(\"xlm-roberta-base\", num_labels=num_labels)"
      ]
    },
    {
      "cell_type": "code",
      "execution_count": 587,
      "metadata": {
        "colab": {
          "base_uri": "https://localhost:8080/"
        },
        "id": "jLvjKj_77KSC",
        "outputId": "e87339bc-b6ab-4ddd-eb0e-bbd5b7098baa"
      },
      "outputs": [
        {
          "name": "stderr",
          "output_type": "stream",
          "text": [
            "<ipython-input-587-28fe92d75539>:1: FutureWarning: `tokenizer` is deprecated and will be removed in version 5.0.0 for `Trainer.__init__`. Use `processing_class` instead.\n",
            "  trainer = Trainer(\n"
          ]
        }
      ],
      "source": [
        "trainer = Trainer(\n",
        "        model=model,\n",
        "        args=training_args,\n",
        "        train_dataset=train_dataset,\n",
        "        eval_dataset=val_dataset,\n",
        "        tokenizer=tokenizer,\n",
        "        compute_metrics=compute_metrics_eval,\n",
        "    )"
      ]
    },
    {
      "cell_type": "code",
      "execution_count": 588,
      "metadata": {
        "colab": {
          "base_uri": "https://localhost:8080/",
          "height": 206
        },
        "id": "ek4hxlV9FSKz",
        "outputId": "7c9600a7-0969-401a-fce8-c2fb63da06f6"
      },
      "outputs": [
        {
          "data": {
            "text/html": [
              "\n",
              "    <div>\n",
              "      \n",
              "      <progress value='350' max='350' style='width:300px; height:20px; vertical-align: middle;'></progress>\n",
              "      [350/350 04:01, Epoch 14/14]\n",
              "    </div>\n",
              "    <table border=\"1\" class=\"dataframe\">\n",
              "  <thead>\n",
              " <tr style=\"text-align: left;\">\n",
              "      <th>Step</th>\n",
              "      <th>Training Loss</th>\n",
              "      <th>Validation Loss</th>\n",
              "      <th>Precision</th>\n",
              "      <th>Recall</th>\n",
              "      <th>F1</th>\n",
              "    </tr>\n",
              "  </thead>\n",
              "  <tbody>\n",
              "    <tr>\n",
              "      <td>100</td>\n",
              "      <td>No log</td>\n",
              "      <td>0.100351</td>\n",
              "      <td>0.823529</td>\n",
              "      <td>0.777778</td>\n",
              "      <td>0.800000</td>\n",
              "    </tr>\n",
              "    <tr>\n",
              "      <td>200</td>\n",
              "      <td>No log</td>\n",
              "      <td>0.073508</td>\n",
              "      <td>0.882353</td>\n",
              "      <td>0.833333</td>\n",
              "      <td>0.857143</td>\n",
              "    </tr>\n",
              "    <tr>\n",
              "      <td>300</td>\n",
              "      <td>No log</td>\n",
              "      <td>0.059995</td>\n",
              "      <td>1.000000</td>\n",
              "      <td>0.833333</td>\n",
              "      <td>0.909091</td>\n",
              "    </tr>\n",
              "  </tbody>\n",
              "</table><p>"
            ],
            "text/plain": [
              "<IPython.core.display.HTML object>"
            ]
          },
          "metadata": {},
          "output_type": "display_data"
        },
        {
          "data": {
            "text/plain": [
              "TrainOutput(global_step=350, training_loss=0.09774974278041294, metrics={'train_runtime': 240.7811, 'train_samples_per_second': 11.629, 'train_steps_per_second': 1.454, 'total_flos': 100028569032000.0, 'train_loss': 0.09774974278041294, 'epoch': 14.0})"
            ]
          },
          "execution_count": 588,
          "metadata": {},
          "output_type": "execute_result"
        }
      ],
      "source": [
        "trainer.train()"
      ]
    },
    {
      "cell_type": "markdown",
      "metadata": {},
      "source": [
        "## TEST SET"
      ]
    },
    {
      "cell_type": "code",
      "execution_count": 645,
      "metadata": {
        "id": "ALRltAoRAjA3"
      },
      "outputs": [],
      "source": [
        "def compute_metrics_test(p):\n",
        "    predictions, labels = p\n",
        "    predictions = np.argmax(predictions, axis=2)\n",
        "\n",
        "    true_predictions = [\n",
        "        [label_list[p] for (p, l) in zip(prediction, label) if l != -100]\n",
        "        for prediction, label in zip(predictions, labels)\n",
        "    ]\n",
        "\n",
        "    extracted_terms=extract_terms(true_predictions, test_texts)\n",
        "    extracted_terms = set([item.lower() for item in extracted_terms])\n",
        "    gold_set=gold_set_for_test\n",
        "\n",
        "    true_pos=extracted_terms.intersection(gold_set)\n",
        "    recall=len(true_pos)/len(gold_set)\n",
        "    precision=len(true_pos)/len(extracted_terms)\n",
        "\n",
        "    return {\n",
        "        \"precision\": precision,\n",
        "        \"recall\": recall,\n",
        "        \"f1\": 2*(precision*recall)/(precision+recall),\n",
        "    }"
      ]
    },
    {
      "cell_type": "code",
      "execution_count": 646,
      "metadata": {
        "id": "LMTCmzrVGF19"
      },
      "outputs": [],
      "source": [
        "training_args = TrainingArguments(\n",
        "    output_dir='./results',\n",
        "    per_device_eval_batch_size=8,\n",
        "    logging_dir='./logs',\n",
        "    logging_steps=10,\n",
        "    do_eval=True\n",
        ")"
      ]
    },
    {
      "cell_type": "code",
      "execution_count": 647,
      "metadata": {
        "id": "vQ5UXIbTAp2l"
      },
      "outputs": [],
      "source": [
        "trainer = Trainer(\n",
        "        model=model,\n",
        "        args=training_args,\n",
        "        eval_dataset=test_dataset,\n",
        "        compute_metrics=compute_metrics_test,\n",
        "    )"
      ]
    },
    {
      "cell_type": "code",
      "execution_count": 648,
      "metadata": {
        "colab": {
          "base_uri": "https://localhost:8080/",
          "height": 75
        },
        "id": "ozefaq54Ggxe",
        "outputId": "84a740be-1da9-492e-9ecf-f23bd739b234"
      },
      "outputs": [
        {
          "data": {
            "text/html": [
              "\n",
              "    <div>\n",
              "      \n",
              "      <progress value='4' max='4' style='width:300px; height:20px; vertical-align: middle;'></progress>\n",
              "      [4/4 00:00]\n",
              "    </div>\n",
              "    "
            ],
            "text/plain": [
              "<IPython.core.display.HTML object>"
            ]
          },
          "metadata": {},
          "output_type": "display_data"
        },
        {
          "name": "stdout",
          "output_type": "stream",
          "text": [
            "evaluation results: {'eval_loss': 0.0874839723110199, 'eval_model_preparation_time': 0.0035, 'eval_precision': 1.0, 'eval_recall': 0.8, 'eval_f1': 0.888888888888889, 'eval_runtime': 0.1259, 'eval_samples_per_second': 198.579, 'eval_steps_per_second': 31.773}\n"
          ]
        }
      ],
      "source": [
        "eval_results = trainer.evaluate()\n",
        "print(f\"evaluation results: {eval_results}\")"
      ]
    },
    {
      "cell_type": "code",
      "execution_count": 649,
      "metadata": {
        "colab": {
          "base_uri": "https://localhost:8080/",
          "height": 17
        },
        "id": "yt5qcV7fAsUJ",
        "outputId": "e27c0648-07ec-4df4-d661-ce023013b943"
      },
      "outputs": [
        {
          "data": {
            "text/html": [],
            "text/plain": [
              "<IPython.core.display.HTML object>"
            ]
          },
          "metadata": {},
          "output_type": "display_data"
        }
      ],
      "source": [
        "test_predictions, test_labels, test_metrics = trainer.predict(test_dataset)\n",
        "test_predictions = np.argmax(test_predictions, axis=2)\n",
        "\n",
        "true_test_predictions = [\n",
        "    [label_list[p] for (p, l) in zip(test_prediction, test_label) if l != -100]\n",
        "    for test_prediction, test_label in zip(test_predictions, test_labels)\n",
        "]"
      ]
    },
    {
      "cell_type": "code",
      "execution_count": 650,
      "metadata": {
        "colab": {
          "base_uri": "https://localhost:8080/"
        },
        "id": "RwcJTmG2AvlP",
        "outputId": "4c3ed0a8-9970-4fb2-b601-482eeacf5451"
      },
      "outputs": [
        {
          "name": "stdout",
          "output_type": "stream",
          "text": [
            "      Text       Label  Prediction\n",
            "     jesus           n           n\n",
            "verdammter         B-B         B-B\n",
            "    christ           n           n\n",
            "       its           n           n\n",
            "      like           n           n\n",
            "         i           n           n\n",
            "         m           n           n\n",
            "      back           n           n\n",
            "        in           n           n\n",
            "     saudi           n           n\n",
            "    arabia           n           n\n",
            "     again           n           n\n",
            "         .           n           n\n"
          ]
        }
      ],
      "source": [
        "i=16\n",
        "print('{:>10}  {:>10}  {:>10}'.format(\"Text\", \"Label\", \"Prediction\"))\n",
        "for j in range(len(true_test_predictions[i])):\n",
        "  print('{:>10}  {:>10}  {:>10}'.format(test_texts[i][j], test_tags[i][j], true_test_predictions[i][j]))"
      ]
    },
    {
      "cell_type": "code",
      "execution_count": 651,
      "metadata": {
        "id": "cfRn8KYtbUci"
      },
      "outputs": [],
      "source": [
        "def computeTermEvalMetrics(extracted_terms, gold_df):\n",
        "  extracted_terms = set([item.lower() for item in extracted_terms])\n",
        "  gold_set=set(gold_df)\n",
        "  true_pos=extracted_terms.intersection(gold_set)\n",
        "  recall=len(true_pos)/len(gold_set)\n",
        "  precision=len(true_pos)/len(extracted_terms)\n",
        "\n",
        "  print(\"Intersection\",len(true_pos))\n",
        "  print(\"Gold\",len(gold_set))\n",
        "  print(\"Extracted\",len(extracted_terms))\n",
        "  print(\"Recall:\", recall)\n",
        "  print(\"Precision:\", precision)\n",
        "  print(\"F1:\", 2*(precision*recall)/(precision+recall))"
      ]
    },
    {
      "cell_type": "code",
      "execution_count": 652,
      "metadata": {
        "id": "S-9UeYWHbYCg"
      },
      "outputs": [],
      "source": [
        "test_extracted_terms = extract_terms(true_test_predictions, test_texts)"
      ]
    },
    {
      "cell_type": "code",
      "execution_count": 655,
      "metadata": {
        "colab": {
          "base_uri": "https://localhost:8080/"
        },
        "id": "c9JPasiJLsuZ",
        "outputId": "a290d61d-86a4-477c-f04b-01900d35e0bd"
      },
      "outputs": [
        {
          "name": "stdout",
          "output_type": "stream",
          "text": [
            "{'bitch', 'fettrückstand', 'verdammte', 'verdammter', 'verdammt', 'niggers', 'dich', 'verpiss', 'dumb', 'dumm', 'nigger', 'schwuchteln', 'sandniggern', 'niggersau', 'fick', 'faggots'}\n"
          ]
        }
      ],
      "source": [
        "print(test_extracted_terms)"
      ]
    },
    {
      "cell_type": "code",
      "execution_count": 653,
      "metadata": {
        "colab": {
          "base_uri": "https://localhost:8080/"
        },
        "id": "Hi1c0X5oKbTV",
        "outputId": "afee7f45-b664-4889-abf4-438ed02d2aae"
      },
      "outputs": [
        {
          "name": "stdout",
          "output_type": "stream",
          "text": [
            "Intersection 16\n",
            "Gold 20\n",
            "Extracted 16\n",
            "Recall: 0.8\n",
            "Precision: 1.0\n",
            "F1: 0.888888888888889\n"
          ]
        }
      ],
      "source": [
        "computeTermEvalMetrics(test_extracted_terms, gold_set_for_test)"
      ]
    }
  ],
  "metadata": {
    "accelerator": "GPU",
    "colab": {
      "gpuType": "T4",
      "provenance": []
    },
    "kernelspec": {
      "display_name": "Python 3",
      "name": "python3"
    },
    "language_info": {
      "name": "python"
    }
  },
  "nbformat": 4,
  "nbformat_minor": 0
}
